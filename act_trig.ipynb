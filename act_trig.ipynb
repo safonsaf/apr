{
 "cells": [
  {
   "cell_type": "code",
   "execution_count": 47,
   "metadata": {},
   "outputs": [],
   "source": [
    "import pandas as pd\n",
    "import numpy as np\n",
    "import matplotlib.pyplot as plt\n",
    "\n",
    "pd.set_option('display.max_rows', None)\n",
    "pd.set_option('display.max_columns', None)\n",
    "pd.set_option('display.max_colwidth', None)\n",
    "pd.options.display.max_columns=None\n",
    "pd.options.mode.chained_assignment = None"
   ]
  },
  {
   "cell_type": "code",
   "execution_count": 3,
   "metadata": {},
   "outputs": [],
   "source": [
    "actions = pd.read_csv(r'C:\\Users\\User\\apr_test\\actions.csv')"
   ]
  },
  {
   "cell_type": "code",
   "execution_count": 4,
   "metadata": {},
   "outputs": [],
   "source": [
    "triggers = pd.read_csv(r'C:\\Users\\User\\triggers\\triggers.csv')"
   ]
  },
  {
   "cell_type": "code",
   "execution_count": null,
   "metadata": {},
   "outputs": [],
   "source": [
    "triggers['type'].value_counts()"
   ]
  },
  {
   "cell_type": "code",
   "execution_count": null,
   "metadata": {},
   "outputs": [],
   "source": [
    "triggers['trigger'].nunique()"
   ]
  },
  {
   "cell_type": "code",
   "execution_count": 31,
   "metadata": {},
   "outputs": [
    {
     "name": "stdout",
     "output_type": "stream",
     "text": [
      "<class 'pandas.core.frame.DataFrame'>\n",
      "RangeIndex: 378204 entries, 0 to 378203\n",
      "Data columns (total 3 columns):\n",
      " #   Column  Non-Null Count   Dtype         \n",
      "---  ------  --------------   -----         \n",
      " 0   guid    378204 non-null  object        \n",
      " 1   date    378204 non-null  datetime64[ns]\n",
      " 2   result  378204 non-null  int64         \n",
      "dtypes: datetime64[ns](1), int64(1), object(1)\n",
      "memory usage: 8.7+ MB\n"
     ]
    }
   ],
   "source": [
    "actions.info()"
   ]
  },
  {
   "cell_type": "code",
   "execution_count": null,
   "metadata": {},
   "outputs": [],
   "source": [
    "triggers.info()"
   ]
  },
  {
   "cell_type": "code",
   "execution_count": null,
   "metadata": {},
   "outputs": [],
   "source": [
    "# приведём даты к верному типу\n",
    "actions['date'] = pd.to_datetime(actions['date'], errors='coerce')\n",
    "triggers['date'] = pd.to_datetime(triggers['date'], errors='coerce')"
   ]
  },
  {
   "cell_type": "code",
   "execution_count": null,
   "metadata": {},
   "outputs": [],
   "source": [
    "# предобработка данных \n",
    "print(actions.isnull().sum())\n",
    "print(triggers.isnull().sum())"
   ]
  },
  {
   "cell_type": "code",
   "execution_count": 5,
   "metadata": {},
   "outputs": [
    {
     "name": "stdout",
     "output_type": "stream",
     "text": [
      "Количество дубликатов в 'actions': 0\n",
      "Количество дубликатов в 'triggers': 5933568\n"
     ]
    }
   ],
   "source": [
    "print(\"Количество дубликатов в 'actions':\", actions.duplicated().sum())\n",
    "print(\"Количество дубликатов в 'triggers':\", triggers.duplicated().sum())"
   ]
  },
  {
   "cell_type": "code",
   "execution_count": null,
   "metadata": {},
   "outputs": [],
   "source": [
    "# больше 10% полных дубликтов, если это не ошибка в записи данных, это может означать, что пользователь несколько раз нажимает\n",
    "# куда-то, пока что построим модель, удалив дубликаты, но в дальнейшем это можно будет отдельно проанализировать и возможно добавить в модель\n",
    "triggers_duplicates.head(5)"
   ]
  },
  {
   "cell_type": "code",
   "execution_count": 13,
   "metadata": {},
   "outputs": [],
   "source": [
    "triggers = triggers.drop_duplicates(keep='first')"
   ]
  },
  {
   "cell_type": "code",
   "execution_count": null,
   "metadata": {},
   "outputs": [],
   "source": []
  },
  {
   "cell_type": "code",
   "execution_count": 4,
   "metadata": {},
   "outputs": [],
   "source": []
  },
  {
   "cell_type": "code",
   "execution_count": null,
   "metadata": {},
   "outputs": [],
   "source": [
    "# как связаные trigger type и action \n",
    "# проверим могут быть для одного и того же триггера повторяющиеся type\n",
    "# если нет, то буду расценивать type как только такой возможный тип взаимодействия для этого тригера "
   ]
  },
  {
   "cell_type": "code",
   "execution_count": 14,
   "metadata": {},
   "outputs": [],
   "source": [
    "trigger_type_check = triggers.groupby('trigger')['type'].nunique().reset_index()"
   ]
  },
  {
   "cell_type": "code",
   "execution_count": 15,
   "metadata": {},
   "outputs": [
    {
     "data": {
      "text/html": [
       "<div>\n",
       "<style scoped>\n",
       "    .dataframe tbody tr th:only-of-type {\n",
       "        vertical-align: middle;\n",
       "    }\n",
       "\n",
       "    .dataframe tbody tr th {\n",
       "        vertical-align: top;\n",
       "    }\n",
       "\n",
       "    .dataframe thead th {\n",
       "        text-align: right;\n",
       "    }\n",
       "</style>\n",
       "<table border=\"1\" class=\"dataframe\">\n",
       "  <thead>\n",
       "    <tr style=\"text-align: right;\">\n",
       "      <th></th>\n",
       "      <th>trigger</th>\n",
       "      <th>type</th>\n",
       "    </tr>\n",
       "  </thead>\n",
       "  <tbody>\n",
       "    <tr>\n",
       "      <th>0</th>\n",
       "      <td>0</td>\n",
       "      <td>1</td>\n",
       "    </tr>\n",
       "    <tr>\n",
       "      <th>1</th>\n",
       "      <td>1</td>\n",
       "      <td>1</td>\n",
       "    </tr>\n",
       "    <tr>\n",
       "      <th>2</th>\n",
       "      <td>2</td>\n",
       "      <td>1</td>\n",
       "    </tr>\n",
       "    <tr>\n",
       "      <th>3</th>\n",
       "      <td>3</td>\n",
       "      <td>1</td>\n",
       "    </tr>\n",
       "    <tr>\n",
       "      <th>4</th>\n",
       "      <td>4</td>\n",
       "      <td>1</td>\n",
       "    </tr>\n",
       "  </tbody>\n",
       "</table>\n",
       "</div>"
      ],
      "text/plain": [
       "   trigger  type\n",
       "0        0     1\n",
       "1        1     1\n",
       "2        2     1\n",
       "3        3     1\n",
       "4        4     1"
      ]
     },
     "execution_count": 15,
     "metadata": {},
     "output_type": "execute_result"
    }
   ],
   "source": [
    "trigger_type_check.head()"
   ]
  },
  {
   "cell_type": "code",
   "execution_count": 16,
   "metadata": {},
   "outputs": [
    {
     "data": {
      "text/plain": [
       "type\n",
       "1    2330\n",
       "2     177\n",
       "Name: count, dtype: int64"
      ]
     },
     "execution_count": 16,
     "metadata": {},
     "output_type": "execute_result"
    }
   ],
   "source": [
    "trigger_type_check['type'].value_counts()"
   ]
  },
  {
   "cell_type": "code",
   "execution_count": 17,
   "metadata": {},
   "outputs": [],
   "source": [
    "trigger_with_multiple_types = trigger_type_check[trigger_type_check['type'] > 1]"
   ]
  },
  {
   "cell_type": "code",
   "execution_count": 18,
   "metadata": {},
   "outputs": [
    {
     "name": "stdout",
     "output_type": "stream",
     "text": [
      "<class 'pandas.core.frame.DataFrame'>\n",
      "Index: 177 entries, 17 to 2473\n",
      "Data columns (total 2 columns):\n",
      " #   Column   Non-Null Count  Dtype\n",
      "---  ------   --------------  -----\n",
      " 0   trigger  177 non-null    int64\n",
      " 1   type     177 non-null    int64\n",
      "dtypes: int64(2)\n",
      "memory usage: 4.1 KB\n"
     ]
    }
   ],
   "source": [
    "trigger_with_multiple_types.info()"
   ]
  },
  {
   "cell_type": "code",
   "execution_count": null,
   "metadata": {},
   "outputs": [],
   "source": [
    "# получается что в текущей модели у 177 тригеров возможны разные типы взаимодействия, большинство триггеров \n",
    "# вызывают один и тот же тип взаимодействия "
   ]
  },
  {
   "cell_type": "code",
   "execution_count": null,
   "metadata": {},
   "outputs": [],
   "source": [
    "# объединение данных по guid, чтобы сопоставить действия с триггерами одного пользователя\n",
    "merged_data = pd.merge(triggers, actions[['guid', 'date', 'result']], on='guid', how='inner')\n",
    "\n",
    "# фильтрация триггеров, которые произошли до действия\n",
    "merged_data = merged_data[merged_data['date_x'] <= merged_data['date_y']]\n",
    "\n",
    "\n",
    "# сортировка по guid и дате действия\n",
    "merged_data = merged_data.sort_values(by=['guid', 'date_y', 'date_x'])\n",
    "\n",
    "# Для каждого действия выбираем последний триггер до действия (максимальную дату триггера)\n",
    "closest_trigger = merged_data.groupby(['guid', 'date_y']).tail(1).reset_index(drop=True)\n",
    "# Переименуем столбцы для удобства\n",
    "closest_trigger = closest_trigger.rename(columns={'date_x': 'date', 'date_y': 'action_date'})\n",
    "triggers_actions = pd.merge(triggers,closest_trigger,how='left',on = ['guid','date','trigger','type'])"
   ]
  },
  {
   "cell_type": "markdown",
   "metadata": {},
   "source": [
    "### объединим данные так, чтобы каждая строка из action попадала в точный интервал в triggers "
   ]
  },
  {
   "cell_type": "code",
   "execution_count": 21,
   "metadata": {},
   "outputs": [],
   "source": [
    "# объединение данных по guid, чтобы сопоставить действия с триггерами одного пользователя\n",
    "merged_data = pd.merge(triggers, actions[['guid', 'date', 'result']], on='guid', how='inner')"
   ]
  },
  {
   "cell_type": "code",
   "execution_count": 22,
   "metadata": {},
   "outputs": [
    {
     "data": {
      "text/html": [
       "<div>\n",
       "<style scoped>\n",
       "    .dataframe tbody tr th:only-of-type {\n",
       "        vertical-align: middle;\n",
       "    }\n",
       "\n",
       "    .dataframe tbody tr th {\n",
       "        vertical-align: top;\n",
       "    }\n",
       "\n",
       "    .dataframe thead th {\n",
       "        text-align: right;\n",
       "    }\n",
       "</style>\n",
       "<table border=\"1\" class=\"dataframe\">\n",
       "  <thead>\n",
       "    <tr style=\"text-align: right;\">\n",
       "      <th></th>\n",
       "      <th>guid</th>\n",
       "      <th>date_x</th>\n",
       "      <th>trigger</th>\n",
       "      <th>type</th>\n",
       "      <th>date_y</th>\n",
       "      <th>result</th>\n",
       "    </tr>\n",
       "  </thead>\n",
       "  <tbody>\n",
       "    <tr>\n",
       "      <th>0</th>\n",
       "      <td>0187a472-becb-7994-5e1e-f179b60bc141</td>\n",
       "      <td>2024-05-31 23:55:27</td>\n",
       "      <td>168</td>\n",
       "      <td>2</td>\n",
       "      <td>2024-05-17 12:19:25</td>\n",
       "      <td>0</td>\n",
       "    </tr>\n",
       "    <tr>\n",
       "      <th>1</th>\n",
       "      <td>018ba175-9e02-8c7a-e522-6e5fec6949a0</td>\n",
       "      <td>2024-05-31 23:55:26</td>\n",
       "      <td>1807</td>\n",
       "      <td>2</td>\n",
       "      <td>2024-05-28 01:41:41</td>\n",
       "      <td>0</td>\n",
       "    </tr>\n",
       "    <tr>\n",
       "      <th>2</th>\n",
       "      <td>018ba175-9e02-8c7a-e522-6e5fec6949a0</td>\n",
       "      <td>2024-05-31 23:55:26</td>\n",
       "      <td>1807</td>\n",
       "      <td>2</td>\n",
       "      <td>2024-05-13 02:30:31</td>\n",
       "      <td>0</td>\n",
       "    </tr>\n",
       "    <tr>\n",
       "      <th>3</th>\n",
       "      <td>018ba175-9e02-8c7a-e522-6e5fec6949a0</td>\n",
       "      <td>2024-05-31 23:55:26</td>\n",
       "      <td>2048</td>\n",
       "      <td>2</td>\n",
       "      <td>2024-05-28 01:41:41</td>\n",
       "      <td>0</td>\n",
       "    </tr>\n",
       "    <tr>\n",
       "      <th>4</th>\n",
       "      <td>018ba175-9e02-8c7a-e522-6e5fec6949a0</td>\n",
       "      <td>2024-05-31 23:55:26</td>\n",
       "      <td>2048</td>\n",
       "      <td>2</td>\n",
       "      <td>2024-05-13 02:30:31</td>\n",
       "      <td>0</td>\n",
       "    </tr>\n",
       "  </tbody>\n",
       "</table>\n",
       "</div>"
      ],
      "text/plain": [
       "                                   guid              date_x  trigger  type  \\\n",
       "0  0187a472-becb-7994-5e1e-f179b60bc141 2024-05-31 23:55:27      168     2   \n",
       "1  018ba175-9e02-8c7a-e522-6e5fec6949a0 2024-05-31 23:55:26     1807     2   \n",
       "2  018ba175-9e02-8c7a-e522-6e5fec6949a0 2024-05-31 23:55:26     1807     2   \n",
       "3  018ba175-9e02-8c7a-e522-6e5fec6949a0 2024-05-31 23:55:26     2048     2   \n",
       "4  018ba175-9e02-8c7a-e522-6e5fec6949a0 2024-05-31 23:55:26     2048     2   \n",
       "\n",
       "               date_y  result  \n",
       "0 2024-05-17 12:19:25       0  \n",
       "1 2024-05-28 01:41:41       0  \n",
       "2 2024-05-13 02:30:31       0  \n",
       "3 2024-05-28 01:41:41       0  \n",
       "4 2024-05-13 02:30:31       0  "
      ]
     },
     "execution_count": 22,
     "metadata": {},
     "output_type": "execute_result"
    }
   ],
   "source": [
    "merged_data.head()"
   ]
  },
  {
   "cell_type": "code",
   "execution_count": 23,
   "metadata": {},
   "outputs": [
    {
     "name": "stdout",
     "output_type": "stream",
     "text": [
      "<class 'pandas.core.frame.DataFrame'>\n",
      "RangeIndex: 42659807 entries, 0 to 42659806\n",
      "Data columns (total 6 columns):\n",
      " #   Column   Dtype         \n",
      "---  ------   -----         \n",
      " 0   guid     object        \n",
      " 1   date_x   datetime64[ns]\n",
      " 2   trigger  int64         \n",
      " 3   type     int64         \n",
      " 4   date_y   datetime64[ns]\n",
      " 5   result   int64         \n",
      "dtypes: datetime64[ns](2), int64(3), object(1)\n",
      "memory usage: 1.9+ GB\n"
     ]
    }
   ],
   "source": [
    "merged_data.info()"
   ]
  },
  {
   "cell_type": "code",
   "execution_count": 24,
   "metadata": {},
   "outputs": [],
   "source": [
    "\n",
    "# фильтрация триггеров, которые произошли до действия\n",
    "merged_data = merged_data[merged_data['date_x'] <= merged_data['date_y']]\n"
   ]
  },
  {
   "cell_type": "code",
   "execution_count": 25,
   "metadata": {},
   "outputs": [],
   "source": [
    "\n",
    "# сортировка по guid и дате действия\n",
    "merged_data = merged_data.sort_values(by=['guid', 'date_y', 'date_x'])"
   ]
  },
  {
   "cell_type": "code",
   "execution_count": 26,
   "metadata": {},
   "outputs": [
    {
     "data": {
      "text/html": [
       "<div>\n",
       "<style scoped>\n",
       "    .dataframe tbody tr th:only-of-type {\n",
       "        vertical-align: middle;\n",
       "    }\n",
       "\n",
       "    .dataframe tbody tr th {\n",
       "        vertical-align: top;\n",
       "    }\n",
       "\n",
       "    .dataframe thead th {\n",
       "        text-align: right;\n",
       "    }\n",
       "</style>\n",
       "<table border=\"1\" class=\"dataframe\">\n",
       "  <thead>\n",
       "    <tr style=\"text-align: right;\">\n",
       "      <th></th>\n",
       "      <th>guid</th>\n",
       "      <th>date_x</th>\n",
       "      <th>trigger</th>\n",
       "      <th>type</th>\n",
       "      <th>date_y</th>\n",
       "      <th>result</th>\n",
       "    </tr>\n",
       "  </thead>\n",
       "  <tbody>\n",
       "    <tr>\n",
       "      <th>34268426</th>\n",
       "      <td>0187808f-1de0-735d-6e69-0d52a09fcd76</td>\n",
       "      <td>2024-05-07 06:52:06</td>\n",
       "      <td>1808</td>\n",
       "      <td>2</td>\n",
       "      <td>2024-05-07 06:57:39</td>\n",
       "      <td>0</td>\n",
       "    </tr>\n",
       "    <tr>\n",
       "      <th>34268427</th>\n",
       "      <td>0187808f-1de0-735d-6e69-0d52a09fcd76</td>\n",
       "      <td>2024-05-07 06:52:06</td>\n",
       "      <td>1808</td>\n",
       "      <td>2</td>\n",
       "      <td>2024-05-23 04:42:12</td>\n",
       "      <td>0</td>\n",
       "    </tr>\n",
       "    <tr>\n",
       "      <th>33502992</th>\n",
       "      <td>0187808f-1de0-735d-6e69-0d52a09fcd76</td>\n",
       "      <td>2024-05-07 13:35:29</td>\n",
       "      <td>1808</td>\n",
       "      <td>2</td>\n",
       "      <td>2024-05-23 04:42:12</td>\n",
       "      <td>0</td>\n",
       "    </tr>\n",
       "    <tr>\n",
       "      <th>32889095</th>\n",
       "      <td>0187808f-1de0-735d-6e69-0d52a09fcd76</td>\n",
       "      <td>2024-05-08 05:52:43</td>\n",
       "      <td>1807</td>\n",
       "      <td>2</td>\n",
       "      <td>2024-05-23 04:42:12</td>\n",
       "      <td>0</td>\n",
       "    </tr>\n",
       "    <tr>\n",
       "      <th>32656831</th>\n",
       "      <td>0187808f-1de0-735d-6e69-0d52a09fcd76</td>\n",
       "      <td>2024-05-08 07:39:45</td>\n",
       "      <td>1808</td>\n",
       "      <td>2</td>\n",
       "      <td>2024-05-23 04:42:12</td>\n",
       "      <td>0</td>\n",
       "    </tr>\n",
       "  </tbody>\n",
       "</table>\n",
       "</div>"
      ],
      "text/plain": [
       "                                          guid              date_x  trigger  \\\n",
       "34268426  0187808f-1de0-735d-6e69-0d52a09fcd76 2024-05-07 06:52:06     1808   \n",
       "34268427  0187808f-1de0-735d-6e69-0d52a09fcd76 2024-05-07 06:52:06     1808   \n",
       "33502992  0187808f-1de0-735d-6e69-0d52a09fcd76 2024-05-07 13:35:29     1808   \n",
       "32889095  0187808f-1de0-735d-6e69-0d52a09fcd76 2024-05-08 05:52:43     1807   \n",
       "32656831  0187808f-1de0-735d-6e69-0d52a09fcd76 2024-05-08 07:39:45     1808   \n",
       "\n",
       "          type              date_y  result  \n",
       "34268426     2 2024-05-07 06:57:39       0  \n",
       "34268427     2 2024-05-23 04:42:12       0  \n",
       "33502992     2 2024-05-23 04:42:12       0  \n",
       "32889095     2 2024-05-23 04:42:12       0  \n",
       "32656831     2 2024-05-23 04:42:12       0  "
      ]
     },
     "execution_count": 26,
     "metadata": {},
     "output_type": "execute_result"
    }
   ],
   "source": [
    "merged_data.head(5)"
   ]
  },
  {
   "cell_type": "code",
   "execution_count": 27,
   "metadata": {},
   "outputs": [],
   "source": [
    "\n",
    "# для каждого действия выбираем последний триггер до действия (максимальную дату триггера)\n",
    "closest_trigger = merged_data.groupby(['guid', 'date_y']).tail(1).reset_index(drop=True)"
   ]
  },
  {
   "cell_type": "code",
   "execution_count": 28,
   "metadata": {},
   "outputs": [
    {
     "data": {
      "text/html": [
       "<div>\n",
       "<style scoped>\n",
       "    .dataframe tbody tr th:only-of-type {\n",
       "        vertical-align: middle;\n",
       "    }\n",
       "\n",
       "    .dataframe tbody tr th {\n",
       "        vertical-align: top;\n",
       "    }\n",
       "\n",
       "    .dataframe thead th {\n",
       "        text-align: right;\n",
       "    }\n",
       "</style>\n",
       "<table border=\"1\" class=\"dataframe\">\n",
       "  <thead>\n",
       "    <tr style=\"text-align: right;\">\n",
       "      <th></th>\n",
       "      <th>guid</th>\n",
       "      <th>date_x</th>\n",
       "      <th>trigger</th>\n",
       "      <th>type</th>\n",
       "      <th>date_y</th>\n",
       "      <th>result</th>\n",
       "    </tr>\n",
       "  </thead>\n",
       "  <tbody>\n",
       "    <tr>\n",
       "      <th>0</th>\n",
       "      <td>0187808f-1de0-735d-6e69-0d52a09fcd76</td>\n",
       "      <td>2024-05-07 06:52:06</td>\n",
       "      <td>1808</td>\n",
       "      <td>2</td>\n",
       "      <td>2024-05-07 06:57:39</td>\n",
       "      <td>0</td>\n",
       "    </tr>\n",
       "    <tr>\n",
       "      <th>1</th>\n",
       "      <td>0187808f-1de0-735d-6e69-0d52a09fcd76</td>\n",
       "      <td>2024-05-23 04:38:40</td>\n",
       "      <td>2074</td>\n",
       "      <td>2</td>\n",
       "      <td>2024-05-23 04:42:12</td>\n",
       "      <td>0</td>\n",
       "    </tr>\n",
       "    <tr>\n",
       "      <th>2</th>\n",
       "      <td>0187808f-53e2-ffd9-7d4f-0f6c5ee0396b</td>\n",
       "      <td>2024-05-07 06:12:52</td>\n",
       "      <td>2053</td>\n",
       "      <td>2</td>\n",
       "      <td>2024-05-07 06:16:09</td>\n",
       "      <td>0</td>\n",
       "    </tr>\n",
       "    <tr>\n",
       "      <th>3</th>\n",
       "      <td>01878092-1c9f-ac2f-c22e-de13adca7008</td>\n",
       "      <td>2024-05-02 11:56:32</td>\n",
       "      <td>159</td>\n",
       "      <td>1</td>\n",
       "      <td>2024-05-02 11:59:50</td>\n",
       "      <td>0</td>\n",
       "    </tr>\n",
       "    <tr>\n",
       "      <th>4</th>\n",
       "      <td>01878092-4b24-e102-7a09-8029282ee35f</td>\n",
       "      <td>2024-05-18 07:35:37</td>\n",
       "      <td>224</td>\n",
       "      <td>1</td>\n",
       "      <td>2024-05-18 07:36:20</td>\n",
       "      <td>0</td>\n",
       "    </tr>\n",
       "  </tbody>\n",
       "</table>\n",
       "</div>"
      ],
      "text/plain": [
       "                                   guid              date_x  trigger  type  \\\n",
       "0  0187808f-1de0-735d-6e69-0d52a09fcd76 2024-05-07 06:52:06     1808     2   \n",
       "1  0187808f-1de0-735d-6e69-0d52a09fcd76 2024-05-23 04:38:40     2074     2   \n",
       "2  0187808f-53e2-ffd9-7d4f-0f6c5ee0396b 2024-05-07 06:12:52     2053     2   \n",
       "3  01878092-1c9f-ac2f-c22e-de13adca7008 2024-05-02 11:56:32      159     1   \n",
       "4  01878092-4b24-e102-7a09-8029282ee35f 2024-05-18 07:35:37      224     1   \n",
       "\n",
       "               date_y  result  \n",
       "0 2024-05-07 06:57:39       0  \n",
       "1 2024-05-23 04:42:12       0  \n",
       "2 2024-05-07 06:16:09       0  \n",
       "3 2024-05-02 11:59:50       0  \n",
       "4 2024-05-18 07:36:20       0  "
      ]
     },
     "execution_count": 28,
     "metadata": {},
     "output_type": "execute_result"
    }
   ],
   "source": [
    "closest_trigger.head()"
   ]
  },
  {
   "cell_type": "code",
   "execution_count": 29,
   "metadata": {},
   "outputs": [],
   "source": [
    "# переименуем столбцы для удобства\n",
    "closest_trigger = closest_trigger.rename(columns={'date_x': 'date', 'date_y': 'action_date'})"
   ]
  },
  {
   "cell_type": "code",
   "execution_count": 30,
   "metadata": {},
   "outputs": [
    {
     "name": "stdout",
     "output_type": "stream",
     "text": [
      "Количество сопоставленных действий и триггеров: 378202\n"
     ]
    }
   ],
   "source": [
    "\n",
    "# проверка количества сопоставленных строк\n",
    "print(f\"Количество сопоставленных действий и триггеров: {closest_trigger.shape[0]}\")\n"
   ]
  },
  {
   "cell_type": "code",
   "execution_count": null,
   "metadata": {},
   "outputs": [],
   "source": [
    "# теперь заменим строки в полной таблице с триггерами на полученные строки с результатом, так мы увидим\n",
    "# полную картину со всеми тригерами, фактом совершения или не совершения действия и результатом этого действия "
   ]
  },
  {
   "cell_type": "code",
   "execution_count": 32,
   "metadata": {},
   "outputs": [],
   "source": [
    "triggers_actions = pd.merge(triggers,closest_trigger,how='left',on = ['guid','date','trigger','type'])"
   ]
  },
  {
   "cell_type": "code",
   "execution_count": 33,
   "metadata": {},
   "outputs": [
    {
     "name": "stdout",
     "output_type": "stream",
     "text": [
      "<class 'pandas.core.frame.DataFrame'>\n",
      "RangeIndex: 37141059 entries, 0 to 37141058\n",
      "Data columns (total 6 columns):\n",
      " #   Column       Dtype         \n",
      "---  ------       -----         \n",
      " 0   guid         object        \n",
      " 1   date         datetime64[ns]\n",
      " 2   trigger      int64         \n",
      " 3   type         int64         \n",
      " 4   action_date  datetime64[ns]\n",
      " 5   result       float64       \n",
      "dtypes: datetime64[ns](2), float64(1), int64(2), object(1)\n",
      "memory usage: 1.7+ GB\n"
     ]
    }
   ],
   "source": [
    "triggers_actions.info()"
   ]
  },
  {
   "cell_type": "code",
   "execution_count": 34,
   "metadata": {},
   "outputs": [
    {
     "data": {
      "text/html": [
       "<div>\n",
       "<style scoped>\n",
       "    .dataframe tbody tr th:only-of-type {\n",
       "        vertical-align: middle;\n",
       "    }\n",
       "\n",
       "    .dataframe tbody tr th {\n",
       "        vertical-align: top;\n",
       "    }\n",
       "\n",
       "    .dataframe thead th {\n",
       "        text-align: right;\n",
       "    }\n",
       "</style>\n",
       "<table border=\"1\" class=\"dataframe\">\n",
       "  <thead>\n",
       "    <tr style=\"text-align: right;\">\n",
       "      <th></th>\n",
       "      <th>guid</th>\n",
       "      <th>date</th>\n",
       "      <th>trigger</th>\n",
       "      <th>type</th>\n",
       "      <th>action_date</th>\n",
       "      <th>result</th>\n",
       "    </tr>\n",
       "  </thead>\n",
       "  <tbody>\n",
       "    <tr>\n",
       "      <th>0</th>\n",
       "      <td>018bdd75-83fc-2510-50e7-153f7b5e4b64</td>\n",
       "      <td>2024-05-31 23:55:27</td>\n",
       "      <td>2047</td>\n",
       "      <td>2</td>\n",
       "      <td>NaT</td>\n",
       "      <td>NaN</td>\n",
       "    </tr>\n",
       "    <tr>\n",
       "      <th>1</th>\n",
       "      <td>0187a472-becb-7994-5e1e-f179b60bc141</td>\n",
       "      <td>2024-05-31 23:55:27</td>\n",
       "      <td>168</td>\n",
       "      <td>2</td>\n",
       "      <td>NaT</td>\n",
       "      <td>NaN</td>\n",
       "    </tr>\n",
       "    <tr>\n",
       "      <th>2</th>\n",
       "      <td>018ba175-9e02-8c7a-e522-6e5fec6949a0</td>\n",
       "      <td>2024-05-31 23:55:26</td>\n",
       "      <td>1807</td>\n",
       "      <td>2</td>\n",
       "      <td>NaT</td>\n",
       "      <td>NaN</td>\n",
       "    </tr>\n",
       "    <tr>\n",
       "      <th>3</th>\n",
       "      <td>018ba175-9e02-8c7a-e522-6e5fec6949a0</td>\n",
       "      <td>2024-05-31 23:55:26</td>\n",
       "      <td>2048</td>\n",
       "      <td>2</td>\n",
       "      <td>NaT</td>\n",
       "      <td>NaN</td>\n",
       "    </tr>\n",
       "    <tr>\n",
       "      <th>4</th>\n",
       "      <td>018e9cfb-c8bc-f38b-e209-5a77c5324a14</td>\n",
       "      <td>2024-05-31 23:55:26</td>\n",
       "      <td>1773</td>\n",
       "      <td>2</td>\n",
       "      <td>2024-05-31 23:57:14</td>\n",
       "      <td>0.0</td>\n",
       "    </tr>\n",
       "    <tr>\n",
       "      <th>5</th>\n",
       "      <td>018cd401-9d7d-7835-2b4c-bd9bdf2cfee5</td>\n",
       "      <td>2024-05-31 23:55:26</td>\n",
       "      <td>2049</td>\n",
       "      <td>2</td>\n",
       "      <td>NaT</td>\n",
       "      <td>NaN</td>\n",
       "    </tr>\n",
       "    <tr>\n",
       "      <th>6</th>\n",
       "      <td>018ba19b-b5a2-7925-1b99-ca029f962425</td>\n",
       "      <td>2024-05-31 23:55:26</td>\n",
       "      <td>1767</td>\n",
       "      <td>2</td>\n",
       "      <td>NaT</td>\n",
       "      <td>NaN</td>\n",
       "    </tr>\n",
       "    <tr>\n",
       "      <th>7</th>\n",
       "      <td>01879181-97e9-e649-8770-917f5cca1e81</td>\n",
       "      <td>2024-05-31 23:55:26</td>\n",
       "      <td>2050</td>\n",
       "      <td>2</td>\n",
       "      <td>2024-05-31 23:57:14</td>\n",
       "      <td>0.0</td>\n",
       "    </tr>\n",
       "    <tr>\n",
       "      <th>8</th>\n",
       "      <td>018ba16d-19e8-2b2d-c722-ec9cfcf82fe0</td>\n",
       "      <td>2024-05-31 23:50:32</td>\n",
       "      <td>2051</td>\n",
       "      <td>2</td>\n",
       "      <td>NaT</td>\n",
       "      <td>NaN</td>\n",
       "    </tr>\n",
       "    <tr>\n",
       "      <th>9</th>\n",
       "      <td>018bf165-e1a4-1195-c3c5-eecddda50648</td>\n",
       "      <td>2024-05-31 23:50:32</td>\n",
       "      <td>243</td>\n",
       "      <td>2</td>\n",
       "      <td>NaT</td>\n",
       "      <td>NaN</td>\n",
       "    </tr>\n",
       "  </tbody>\n",
       "</table>\n",
       "</div>"
      ],
      "text/plain": [
       "                                   guid                date  trigger  type  \\\n",
       "0  018bdd75-83fc-2510-50e7-153f7b5e4b64 2024-05-31 23:55:27     2047     2   \n",
       "1  0187a472-becb-7994-5e1e-f179b60bc141 2024-05-31 23:55:27      168     2   \n",
       "2  018ba175-9e02-8c7a-e522-6e5fec6949a0 2024-05-31 23:55:26     1807     2   \n",
       "3  018ba175-9e02-8c7a-e522-6e5fec6949a0 2024-05-31 23:55:26     2048     2   \n",
       "4  018e9cfb-c8bc-f38b-e209-5a77c5324a14 2024-05-31 23:55:26     1773     2   \n",
       "5  018cd401-9d7d-7835-2b4c-bd9bdf2cfee5 2024-05-31 23:55:26     2049     2   \n",
       "6  018ba19b-b5a2-7925-1b99-ca029f962425 2024-05-31 23:55:26     1767     2   \n",
       "7  01879181-97e9-e649-8770-917f5cca1e81 2024-05-31 23:55:26     2050     2   \n",
       "8  018ba16d-19e8-2b2d-c722-ec9cfcf82fe0 2024-05-31 23:50:32     2051     2   \n",
       "9  018bf165-e1a4-1195-c3c5-eecddda50648 2024-05-31 23:50:32      243     2   \n",
       "\n",
       "          action_date  result  \n",
       "0                 NaT     NaN  \n",
       "1                 NaT     NaN  \n",
       "2                 NaT     NaN  \n",
       "3                 NaT     NaN  \n",
       "4 2024-05-31 23:57:14     0.0  \n",
       "5                 NaT     NaN  \n",
       "6                 NaT     NaN  \n",
       "7 2024-05-31 23:57:14     0.0  \n",
       "8                 NaT     NaN  \n",
       "9                 NaT     NaN  "
      ]
     },
     "execution_count": 34,
     "metadata": {},
     "output_type": "execute_result"
    }
   ],
   "source": [
    "triggers_actions.head(10)"
   ]
  },
  {
   "cell_type": "code",
   "execution_count": null,
   "metadata": {},
   "outputs": [],
   "source": [
    "# проверим частоту взаимодействий в текущей модели"
   ]
  },
  {
   "cell_type": "code",
   "execution_count": 35,
   "metadata": {},
   "outputs": [],
   "source": [
    "closest_trigger_sorted = closest_trigger.sort_values(by=['guid', 'action_date'])\n"
   ]
  },
  {
   "cell_type": "code",
   "execution_count": 36,
   "metadata": {},
   "outputs": [],
   "source": [
    "closest_trigger_sorted['action_date'] = pd.to_datetime(closest_trigger_sorted['action_date'], errors='coerce')"
   ]
  },
  {
   "cell_type": "code",
   "execution_count": 39,
   "metadata": {},
   "outputs": [],
   "source": [
    "\n",
    "# вычисляем временные интервалы между взаимодействиями\n",
    "closest_trigger_sorted['time_diff'] = closest_trigger_sorted.groupby('guid')['action_date'].diff()\n"
   ]
  },
  {
   "cell_type": "code",
   "execution_count": 40,
   "metadata": {},
   "outputs": [
    {
     "data": {
      "text/html": [
       "<div>\n",
       "<style scoped>\n",
       "    .dataframe tbody tr th:only-of-type {\n",
       "        vertical-align: middle;\n",
       "    }\n",
       "\n",
       "    .dataframe tbody tr th {\n",
       "        vertical-align: top;\n",
       "    }\n",
       "\n",
       "    .dataframe thead th {\n",
       "        text-align: right;\n",
       "    }\n",
       "</style>\n",
       "<table border=\"1\" class=\"dataframe\">\n",
       "  <thead>\n",
       "    <tr style=\"text-align: right;\">\n",
       "      <th></th>\n",
       "      <th>guid</th>\n",
       "      <th>date</th>\n",
       "      <th>trigger</th>\n",
       "      <th>type</th>\n",
       "      <th>action_date</th>\n",
       "      <th>result</th>\n",
       "      <th>time_diff</th>\n",
       "    </tr>\n",
       "  </thead>\n",
       "  <tbody>\n",
       "    <tr>\n",
       "      <th>0</th>\n",
       "      <td>0187808f-1de0-735d-6e69-0d52a09fcd76</td>\n",
       "      <td>2024-05-07 06:52:06</td>\n",
       "      <td>1808</td>\n",
       "      <td>2</td>\n",
       "      <td>2024-05-07 06:57:39</td>\n",
       "      <td>0</td>\n",
       "      <td>NaT</td>\n",
       "    </tr>\n",
       "    <tr>\n",
       "      <th>1</th>\n",
       "      <td>0187808f-1de0-735d-6e69-0d52a09fcd76</td>\n",
       "      <td>2024-05-23 04:38:40</td>\n",
       "      <td>2074</td>\n",
       "      <td>2</td>\n",
       "      <td>2024-05-23 04:42:12</td>\n",
       "      <td>0</td>\n",
       "      <td>15 days 21:44:33</td>\n",
       "    </tr>\n",
       "    <tr>\n",
       "      <th>2</th>\n",
       "      <td>0187808f-53e2-ffd9-7d4f-0f6c5ee0396b</td>\n",
       "      <td>2024-05-07 06:12:52</td>\n",
       "      <td>2053</td>\n",
       "      <td>2</td>\n",
       "      <td>2024-05-07 06:16:09</td>\n",
       "      <td>0</td>\n",
       "      <td>NaT</td>\n",
       "    </tr>\n",
       "    <tr>\n",
       "      <th>3</th>\n",
       "      <td>01878092-1c9f-ac2f-c22e-de13adca7008</td>\n",
       "      <td>2024-05-02 11:56:32</td>\n",
       "      <td>159</td>\n",
       "      <td>1</td>\n",
       "      <td>2024-05-02 11:59:50</td>\n",
       "      <td>0</td>\n",
       "      <td>NaT</td>\n",
       "    </tr>\n",
       "    <tr>\n",
       "      <th>4</th>\n",
       "      <td>01878092-4b24-e102-7a09-8029282ee35f</td>\n",
       "      <td>2024-05-18 07:35:37</td>\n",
       "      <td>224</td>\n",
       "      <td>1</td>\n",
       "      <td>2024-05-18 07:36:20</td>\n",
       "      <td>0</td>\n",
       "      <td>NaT</td>\n",
       "    </tr>\n",
       "  </tbody>\n",
       "</table>\n",
       "</div>"
      ],
      "text/plain": [
       "                                   guid                date  trigger  type  \\\n",
       "0  0187808f-1de0-735d-6e69-0d52a09fcd76 2024-05-07 06:52:06     1808     2   \n",
       "1  0187808f-1de0-735d-6e69-0d52a09fcd76 2024-05-23 04:38:40     2074     2   \n",
       "2  0187808f-53e2-ffd9-7d4f-0f6c5ee0396b 2024-05-07 06:12:52     2053     2   \n",
       "3  01878092-1c9f-ac2f-c22e-de13adca7008 2024-05-02 11:56:32      159     1   \n",
       "4  01878092-4b24-e102-7a09-8029282ee35f 2024-05-18 07:35:37      224     1   \n",
       "\n",
       "          action_date  result        time_diff  \n",
       "0 2024-05-07 06:57:39       0              NaT  \n",
       "1 2024-05-23 04:42:12       0 15 days 21:44:33  \n",
       "2 2024-05-07 06:16:09       0              NaT  \n",
       "3 2024-05-02 11:59:50       0              NaT  \n",
       "4 2024-05-18 07:36:20       0              NaT  "
      ]
     },
     "execution_count": 40,
     "metadata": {},
     "output_type": "execute_result"
    }
   ],
   "source": [
    "closest_trigger_sorted.head()"
   ]
  },
  {
   "cell_type": "code",
   "execution_count": null,
   "metadata": {},
   "outputs": [],
   "source": []
  },
  {
   "cell_type": "code",
   "execution_count": 41,
   "metadata": {},
   "outputs": [],
   "source": [
    "\n",
    "# Анализируем, сколько раз взаимодействие с пользователями происходило менее чем через 2 недели\n",
    "too_frequent_interactions = closest_trigger_sorted[closest_trigger_sorted['time_diff'] < pd.Timedelta(weeks=2)]\n"
   ]
  },
  {
   "cell_type": "code",
   "execution_count": 42,
   "metadata": {},
   "outputs": [
    {
     "data": {
      "text/plain": [
       "(0, 7)"
      ]
     },
     "execution_count": 42,
     "metadata": {},
     "output_type": "execute_result"
    }
   ],
   "source": [
    "# в текущей модели нет взаимоействий чаще, чем раз в две недели\n",
    "too_frequent_interactions.shape"
   ]
  },
  {
   "cell_type": "code",
   "execution_count": 43,
   "metadata": {},
   "outputs": [],
   "source": [
    "# анализ эффективности типов взаимодействий \n",
    "# подсчет количества успешных взаимодействий по каждому типу\n",
    "type_success_rate = closest_trigger_sorted.groupby('type')['result'].agg(['count', 'sum'])"
   ]
  },
  {
   "cell_type": "code",
   "execution_count": 44,
   "metadata": {},
   "outputs": [],
   "source": [
    "\n",
    "# рассчитываем процент успешных взаимодействий\n",
    "type_success_rate['success_rate'] = type_success_rate['sum'] / type_success_rate['count']"
   ]
  },
  {
   "cell_type": "code",
   "execution_count": 51,
   "metadata": {},
   "outputs": [
    {
     "data": {
      "image/png": "[encoded data removed]",
      "text/plain": [
       "<Figure size 1000x600 with 1 Axes>"
      ]
     },
     "metadata": {},
     "output_type": "display_data"
    }
   ],
   "source": [
    "plt.figure(figsize=(10, 6))\n",
    "plt.bar(type_success_rate.index, type_success_rate['success_rate'], color='skyblue')\n",
    "plt.title('Процент успешных взаимодействий по типам')\n",
    "plt.xlabel('Тип взаимодействия')\n",
    "plt.ylabel('Процент успеха')\n",
    "plt.xticks(type_success_rate.index)\n",
    "plt.show()"
   ]
  },
  {
   "cell_type": "code",
   "execution_count": null,
   "metadata": {},
   "outputs": [],
   "source": [
    "# из-за большой разницы в количестве взаимодействий взвесим разные типы "
   ]
  },
  {
   "cell_type": "code",
   "execution_count": 45,
   "metadata": {},
   "outputs": [],
   "source": [
    "# считаем общее количество взаимодействий\n",
    "total_interactions = type_success_rate['count'].sum()\n",
    "\n",
    "# Рассчитываем долю каждого типа взаимодействия\n",
    "type_success_rate['interaction_share'] = type_success_rate['count'] / total_interactions\n",
    "\n",
    "# Пересчитываем взвешенный успех с учетом доли использования\n",
    "type_success_rate['weighted_success_rate'] = type_success_rate['success_rate'] * type_success_rate['interaction_share']\n",
    "\n"
   ]
  },
  {
   "cell_type": "code",
   "execution_count": 48,
   "metadata": {},
   "outputs": [
    {
     "data": {
      "image/png": "[encoded data removed]",
      "text/plain": [
       "<Figure size 1000x600 with 1 Axes>"
      ]
     },
     "metadata": {},
     "output_type": "display_data"
    }
   ],
   "source": [
    "plt.figure(figsize=(10, 6))\n",
    "plt.bar(type_success_rate.index, type_success_rate['weighted_success_rate'], color='lightgreen')\n",
    "plt.title('Взвешенный процент успешных взаимодействий по типам')\n",
    "plt.xlabel('Тип взаимодействия')\n",
    "plt.ylabel('Взвешенный процент успеха')\n",
    "plt.xticks(type_success_rate.index)\n",
    "plt.show()\n"
   ]
  },
  {
   "cell_type": "code",
   "execution_count": 55,
   "metadata": {},
   "outputs": [],
   "source": [
    "# получается третий тип используется реже всего, но относительно количества использований он самый успешный\n",
    "# сохраняю датафрейм, чтобы перейти к подготовке признаков и дальнейшему анализу \n",
    "triggers_actions.to_csv(r'C:\\Users\\User\\triggers\\triggers_actions.csv',index = False)"
   ]
  }
 ],
 "metadata": {
  "kernelspec": {
   "display_name": "Python 3",
   "language": "python",
   "name": "python3"
  },
  "language_info": {
   "codemirror_mode": {
    "name": "ipython",
    "version": 3
   },
   "file_extension": ".py",
   "mimetype": "text/x-python",
   "name": "python",
   "nbconvert_exporter": "python",
   "pygments_lexer": "ipython3",
   "version": "3.12.2"
  }
 },
 "nbformat": 4,
 "nbformat_minor": 2
}
