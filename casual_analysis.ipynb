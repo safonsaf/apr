{
 "cells": [
  {
   "cell_type": "code",
   "execution_count": 1,
   "metadata": {},
   "outputs": [],
   "source": [
    "import pandas as pd\n",
    "import numpy as np\n",
    "from datetime import timedelta\n",
    "from sklearn.linear_model import LogisticRegression\n",
    "from sklearn.model_selection import train_test_split\n",
    "from sklearn.preprocessing import StandardScaler\n",
    "\n",
    "import random\n",
    "\n",
    "from sklearn.metrics import classification_report, roc_auc_score\n",
    "\n",
    "from sklearn.ensemble import RandomForestClassifier\n",
    "\n",
    "\n",
    "import matplotlib.pyplot as plt\n",
    "import seaborn as sns\n",
    "\n",
    "pd.set_option('display.max_rows', None)\n",
    "pd.set_option('display.max_columns', None)\n",
    "pd.set_option('display.max_colwidth', None)\n",
    "pd.options.display.max_columns=None\n",
    "pd.options.mode.chained_assignment = None"
   ]
  },
  {
   "cell_type": "code",
   "execution_count": 2,
   "metadata": {},
   "outputs": [],
   "source": [
    "triggers_actions = pd.read_csv(r'C:\\Users\\User\\triggers\\triggers_features.csv')"
   ]
  },
  {
   "cell_type": "code",
   "execution_count": 3,
   "metadata": {},
   "outputs": [
    {
     "data": {
      "text/html": [
       "<div>\n",
       "<style scoped>\n",
       "    .dataframe tbody tr th:only-of-type {\n",
       "        vertical-align: middle;\n",
       "    }\n",
       "\n",
       "    .dataframe tbody tr th {\n",
       "        vertical-align: top;\n",
       "    }\n",
       "\n",
       "    .dataframe thead th {\n",
       "        text-align: right;\n",
       "    }\n",
       "</style>\n",
       "<table border=\"1\" class=\"dataframe\">\n",
       "  <thead>\n",
       "    <tr style=\"text-align: right;\">\n",
       "      <th></th>\n",
       "      <th>Unnamed: 0</th>\n",
       "      <th>guid</th>\n",
       "      <th>date</th>\n",
       "      <th>trigger</th>\n",
       "      <th>type</th>\n",
       "      <th>action_date</th>\n",
       "      <th>result</th>\n",
       "      <th>time_since_last_action</th>\n",
       "      <th>last_successful_type</th>\n",
       "      <th>triggers_since_last_action</th>\n",
       "    </tr>\n",
       "  </thead>\n",
       "  <tbody>\n",
       "    <tr>\n",
       "      <th>0</th>\n",
       "      <td>0</td>\n",
       "      <td>0187808e-d664-cc1d-403d-b93ac1365ee8</td>\n",
       "      <td>2024-05-20 15:30:28</td>\n",
       "      <td>59</td>\n",
       "      <td>1</td>\n",
       "      <td>NaN</td>\n",
       "      <td>NaN</td>\n",
       "      <td>0.000000</td>\n",
       "      <td>NaN</td>\n",
       "      <td>1</td>\n",
       "    </tr>\n",
       "    <tr>\n",
       "      <th>1</th>\n",
       "      <td>1</td>\n",
       "      <td>0187808e-d664-cc1d-403d-b93ac1365ee8</td>\n",
       "      <td>2024-05-23 07:04:59</td>\n",
       "      <td>59</td>\n",
       "      <td>1</td>\n",
       "      <td>NaN</td>\n",
       "      <td>NaN</td>\n",
       "      <td>2.648970</td>\n",
       "      <td>NaN</td>\n",
       "      <td>2</td>\n",
       "    </tr>\n",
       "    <tr>\n",
       "      <th>2</th>\n",
       "      <td>2</td>\n",
       "      <td>0187808e-e508-2486-7385-30069e7c0a7f</td>\n",
       "      <td>2024-05-21 18:45:45</td>\n",
       "      <td>12</td>\n",
       "      <td>1</td>\n",
       "      <td>NaN</td>\n",
       "      <td>NaN</td>\n",
       "      <td>0.000000</td>\n",
       "      <td>NaN</td>\n",
       "      <td>1</td>\n",
       "    </tr>\n",
       "    <tr>\n",
       "      <th>3</th>\n",
       "      <td>3</td>\n",
       "      <td>0187808e-e508-2486-7385-30069e7c0a7f</td>\n",
       "      <td>2024-05-21 18:45:46</td>\n",
       "      <td>27</td>\n",
       "      <td>1</td>\n",
       "      <td>NaN</td>\n",
       "      <td>NaN</td>\n",
       "      <td>0.000012</td>\n",
       "      <td>NaN</td>\n",
       "      <td>2</td>\n",
       "    </tr>\n",
       "    <tr>\n",
       "      <th>4</th>\n",
       "      <td>4</td>\n",
       "      <td>0187808e-e508-2486-7385-30069e7c0a7f</td>\n",
       "      <td>2024-05-21 18:45:46</td>\n",
       "      <td>168</td>\n",
       "      <td>1</td>\n",
       "      <td>NaN</td>\n",
       "      <td>NaN</td>\n",
       "      <td>0.000012</td>\n",
       "      <td>NaN</td>\n",
       "      <td>3</td>\n",
       "    </tr>\n",
       "  </tbody>\n",
       "</table>\n",
       "</div>"
      ],
      "text/plain": [
       "   Unnamed: 0                                  guid                 date  \\\n",
       "0           0  0187808e-d664-cc1d-403d-b93ac1365ee8  2024-05-20 15:30:28   \n",
       "1           1  0187808e-d664-cc1d-403d-b93ac1365ee8  2024-05-23 07:04:59   \n",
       "2           2  0187808e-e508-2486-7385-30069e7c0a7f  2024-05-21 18:45:45   \n",
       "3           3  0187808e-e508-2486-7385-30069e7c0a7f  2024-05-21 18:45:46   \n",
       "4           4  0187808e-e508-2486-7385-30069e7c0a7f  2024-05-21 18:45:46   \n",
       "\n",
       "   trigger  type action_date  result  time_since_last_action  \\\n",
       "0       59     1         NaN     NaN                0.000000   \n",
       "1       59     1         NaN     NaN                2.648970   \n",
       "2       12     1         NaN     NaN                0.000000   \n",
       "3       27     1         NaN     NaN                0.000012   \n",
       "4      168     1         NaN     NaN                0.000012   \n",
       "\n",
       "   last_successful_type  triggers_since_last_action  \n",
       "0                   NaN                           1  \n",
       "1                   NaN                           2  \n",
       "2                   NaN                           1  \n",
       "3                   NaN                           2  \n",
       "4                   NaN                           3  "
      ]
     },
     "execution_count": 3,
     "metadata": {},
     "output_type": "execute_result"
    }
   ],
   "source": [
    "triggers_actions.head()"
   ]
  },
  {
   "cell_type": "code",
   "execution_count": 4,
   "metadata": {},
   "outputs": [],
   "source": [
    "# приступим к обработке пропущенных значений\n",
    "# факт взаимодействия, тут нам не так важна дата, присвоим значением 1 (если взаимодействие было) и 0 (если не было)\n",
    "triggers_actions['action_date'] = triggers_actions['action_date'].notna().astype(int)"
   ]
  },
  {
   "cell_type": "code",
   "execution_count": 5,
   "metadata": {},
   "outputs": [],
   "source": [
    "# результат взаимодействия сейчас успешно 1, неуспешно 0, не было - пропуск \n",
    "# заменим : не успешно -1, не было 0, успешно 1\n",
    "triggers_actions['result'] = triggers_actions['result'].replace(0, -1).fillna(0).astype(int)"
   ]
  },
  {
   "cell_type": "code",
   "execution_count": 6,
   "metadata": {},
   "outputs": [
    {
     "data": {
      "text/plain": [
       "result\n",
       " 0    36762857\n",
       "-1      367064\n",
       " 1       11138\n",
       "Name: count, dtype: int64"
      ]
     },
     "execution_count": 6,
     "metadata": {},
     "output_type": "execute_result"
    }
   ],
   "source": [
    "triggers_actions['result'].value_counts()"
   ]
  },
  {
   "cell_type": "code",
   "execution_count": 7,
   "metadata": {},
   "outputs": [],
   "source": [
    "# последний успешный тип взаимодействия, категориальный признак, заменим пропуски на '0'\n",
    "triggers_actions['last_successful_type'] = triggers_actions['last_successful_type'].fillna(0)\n"
   ]
  },
  {
   "cell_type": "code",
   "execution_count": 8,
   "metadata": {},
   "outputs": [],
   "source": [
    "triggers_actions['last_successful_type'] = triggers_actions['last_successful_type'].astype('category')"
   ]
  },
  {
   "cell_type": "code",
   "execution_count": 9,
   "metadata": {},
   "outputs": [],
   "source": [
    "triggers_actions['trigger'] = triggers_actions['trigger'].astype('category')"
   ]
  },
  {
   "cell_type": "code",
   "execution_count": 10,
   "metadata": {},
   "outputs": [
    {
     "data": {
      "text/html": [
       "<div>\n",
       "<style scoped>\n",
       "    .dataframe tbody tr th:only-of-type {\n",
       "        vertical-align: middle;\n",
       "    }\n",
       "\n",
       "    .dataframe tbody tr th {\n",
       "        vertical-align: top;\n",
       "    }\n",
       "\n",
       "    .dataframe thead th {\n",
       "        text-align: right;\n",
       "    }\n",
       "</style>\n",
       "<table border=\"1\" class=\"dataframe\">\n",
       "  <thead>\n",
       "    <tr style=\"text-align: right;\">\n",
       "      <th></th>\n",
       "      <th>Unnamed: 0</th>\n",
       "      <th>guid</th>\n",
       "      <th>date</th>\n",
       "      <th>trigger</th>\n",
       "      <th>type</th>\n",
       "      <th>action_date</th>\n",
       "      <th>result</th>\n",
       "      <th>time_since_last_action</th>\n",
       "      <th>last_successful_type</th>\n",
       "      <th>triggers_since_last_action</th>\n",
       "    </tr>\n",
       "  </thead>\n",
       "  <tbody>\n",
       "    <tr>\n",
       "      <th>0</th>\n",
       "      <td>0</td>\n",
       "      <td>0187808e-d664-cc1d-403d-b93ac1365ee8</td>\n",
       "      <td>2024-05-20 15:30:28</td>\n",
       "      <td>59</td>\n",
       "      <td>1</td>\n",
       "      <td>0</td>\n",
       "      <td>0</td>\n",
       "      <td>0.000000</td>\n",
       "      <td>0.0</td>\n",
       "      <td>1</td>\n",
       "    </tr>\n",
       "    <tr>\n",
       "      <th>1</th>\n",
       "      <td>1</td>\n",
       "      <td>0187808e-d664-cc1d-403d-b93ac1365ee8</td>\n",
       "      <td>2024-05-23 07:04:59</td>\n",
       "      <td>59</td>\n",
       "      <td>1</td>\n",
       "      <td>0</td>\n",
       "      <td>0</td>\n",
       "      <td>2.648970</td>\n",
       "      <td>0.0</td>\n",
       "      <td>2</td>\n",
       "    </tr>\n",
       "    <tr>\n",
       "      <th>2</th>\n",
       "      <td>2</td>\n",
       "      <td>0187808e-e508-2486-7385-30069e7c0a7f</td>\n",
       "      <td>2024-05-21 18:45:45</td>\n",
       "      <td>12</td>\n",
       "      <td>1</td>\n",
       "      <td>0</td>\n",
       "      <td>0</td>\n",
       "      <td>0.000000</td>\n",
       "      <td>0.0</td>\n",
       "      <td>1</td>\n",
       "    </tr>\n",
       "    <tr>\n",
       "      <th>3</th>\n",
       "      <td>3</td>\n",
       "      <td>0187808e-e508-2486-7385-30069e7c0a7f</td>\n",
       "      <td>2024-05-21 18:45:46</td>\n",
       "      <td>27</td>\n",
       "      <td>1</td>\n",
       "      <td>0</td>\n",
       "      <td>0</td>\n",
       "      <td>0.000012</td>\n",
       "      <td>0.0</td>\n",
       "      <td>2</td>\n",
       "    </tr>\n",
       "    <tr>\n",
       "      <th>4</th>\n",
       "      <td>4</td>\n",
       "      <td>0187808e-e508-2486-7385-30069e7c0a7f</td>\n",
       "      <td>2024-05-21 18:45:46</td>\n",
       "      <td>168</td>\n",
       "      <td>1</td>\n",
       "      <td>0</td>\n",
       "      <td>0</td>\n",
       "      <td>0.000012</td>\n",
       "      <td>0.0</td>\n",
       "      <td>3</td>\n",
       "    </tr>\n",
       "    <tr>\n",
       "      <th>5</th>\n",
       "      <td>5</td>\n",
       "      <td>0187808e-e508-2486-7385-30069e7c0a7f</td>\n",
       "      <td>2024-05-21 18:45:46</td>\n",
       "      <td>133</td>\n",
       "      <td>1</td>\n",
       "      <td>0</td>\n",
       "      <td>0</td>\n",
       "      <td>0.000012</td>\n",
       "      <td>0.0</td>\n",
       "      <td>4</td>\n",
       "    </tr>\n",
       "    <tr>\n",
       "      <th>6</th>\n",
       "      <td>6</td>\n",
       "      <td>0187808e-e508-2486-7385-30069e7c0a7f</td>\n",
       "      <td>2024-05-21 18:45:48</td>\n",
       "      <td>188</td>\n",
       "      <td>1</td>\n",
       "      <td>0</td>\n",
       "      <td>0</td>\n",
       "      <td>0.000035</td>\n",
       "      <td>0.0</td>\n",
       "      <td>5</td>\n",
       "    </tr>\n",
       "    <tr>\n",
       "      <th>7</th>\n",
       "      <td>7</td>\n",
       "      <td>0187808e-e508-2486-7385-30069e7c0a7f</td>\n",
       "      <td>2024-05-21 18:45:51</td>\n",
       "      <td>6</td>\n",
       "      <td>1</td>\n",
       "      <td>0</td>\n",
       "      <td>0</td>\n",
       "      <td>0.000069</td>\n",
       "      <td>0.0</td>\n",
       "      <td>6</td>\n",
       "    </tr>\n",
       "    <tr>\n",
       "      <th>8</th>\n",
       "      <td>8</td>\n",
       "      <td>0187808e-e508-2486-7385-30069e7c0a7f</td>\n",
       "      <td>2024-05-21 18:45:51</td>\n",
       "      <td>243</td>\n",
       "      <td>1</td>\n",
       "      <td>0</td>\n",
       "      <td>0</td>\n",
       "      <td>0.000069</td>\n",
       "      <td>0.0</td>\n",
       "      <td>7</td>\n",
       "    </tr>\n",
       "    <tr>\n",
       "      <th>9</th>\n",
       "      <td>9</td>\n",
       "      <td>0187808e-e508-2486-7385-30069e7c0a7f</td>\n",
       "      <td>2024-05-21 18:45:52</td>\n",
       "      <td>155</td>\n",
       "      <td>1</td>\n",
       "      <td>0</td>\n",
       "      <td>0</td>\n",
       "      <td>0.000081</td>\n",
       "      <td>0.0</td>\n",
       "      <td>8</td>\n",
       "    </tr>\n",
       "  </tbody>\n",
       "</table>\n",
       "</div>"
      ],
      "text/plain": [
       "   Unnamed: 0                                  guid                 date  \\\n",
       "0           0  0187808e-d664-cc1d-403d-b93ac1365ee8  2024-05-20 15:30:28   \n",
       "1           1  0187808e-d664-cc1d-403d-b93ac1365ee8  2024-05-23 07:04:59   \n",
       "2           2  0187808e-e508-2486-7385-30069e7c0a7f  2024-05-21 18:45:45   \n",
       "3           3  0187808e-e508-2486-7385-30069e7c0a7f  2024-05-21 18:45:46   \n",
       "4           4  0187808e-e508-2486-7385-30069e7c0a7f  2024-05-21 18:45:46   \n",
       "5           5  0187808e-e508-2486-7385-30069e7c0a7f  2024-05-21 18:45:46   \n",
       "6           6  0187808e-e508-2486-7385-30069e7c0a7f  2024-05-21 18:45:48   \n",
       "7           7  0187808e-e508-2486-7385-30069e7c0a7f  2024-05-21 18:45:51   \n",
       "8           8  0187808e-e508-2486-7385-30069e7c0a7f  2024-05-21 18:45:51   \n",
       "9           9  0187808e-e508-2486-7385-30069e7c0a7f  2024-05-21 18:45:52   \n",
       "\n",
       "  trigger  type  action_date  result  time_since_last_action  \\\n",
       "0      59     1            0       0                0.000000   \n",
       "1      59     1            0       0                2.648970   \n",
       "2      12     1            0       0                0.000000   \n",
       "3      27     1            0       0                0.000012   \n",
       "4     168     1            0       0                0.000012   \n",
       "5     133     1            0       0                0.000012   \n",
       "6     188     1            0       0                0.000035   \n",
       "7       6     1            0       0                0.000069   \n",
       "8     243     1            0       0                0.000069   \n",
       "9     155     1            0       0                0.000081   \n",
       "\n",
       "  last_successful_type  triggers_since_last_action  \n",
       "0                  0.0                           1  \n",
       "1                  0.0                           2  \n",
       "2                  0.0                           1  \n",
       "3                  0.0                           2  \n",
       "4                  0.0                           3  \n",
       "5                  0.0                           4  \n",
       "6                  0.0                           5  \n",
       "7                  0.0                           6  \n",
       "8                  0.0                           7  \n",
       "9                  0.0                           8  "
      ]
     },
     "execution_count": 10,
     "metadata": {},
     "output_type": "execute_result"
    }
   ],
   "source": [
    "triggers_actions.head(10)"
   ]
  },
  {
   "cell_type": "code",
   "execution_count": 11,
   "metadata": {},
   "outputs": [],
   "source": [
    "triggers_actions.to_csv(r'C:\\Users\\User\\triggers\\before_logreg.csv',index = False)"
   ]
  },
  {
   "cell_type": "markdown",
   "metadata": {},
   "source": [
    "###  теперь попробуем оценить влияние на успешный результат"
   ]
  },
  {
   "cell_type": "code",
   "execution_count": null,
   "metadata": {},
   "outputs": [],
   "source": [
    "triggers_actions[~triggers_actions['interaction_prob'].isna()].head(30)"
   ]
  },
  {
   "cell_type": "code",
   "execution_count": 18,
   "metadata": {},
   "outputs": [],
   "source": [
    "smth = triggers_actions[(triggers_actions['result'] == 1) | (triggers_actions['result'] == 0)]"
   ]
  },
  {
   "cell_type": "code",
   "execution_count": null,
   "metadata": {},
   "outputs": [],
   "source": [
    "triggers_actions.head()"
   ]
  },
  {
   "cell_type": "code",
   "execution_count": 8,
   "metadata": {},
   "outputs": [],
   "source": [
    "# делим данные на train и test, на одних и тех же данных предскажем отдельно веротяность факта взаимодействия и вероятность успеха взаимодействия \n",
    "\n",
    "X = triggers_actions[['trigger', 'time_since_last_action', 'triggers_since_last_action', 'last_successful_type']]\n",
    "y_interaction = triggers_actions['action_date']  # таргет для взаимодействия\n",
    "\n",
    "# Разделение данных на train/test с фиксацией индексов\n",
    "X_train, X_test, y_train_interaction, y_test_interaction = train_test_split(X, y_interaction, test_size=0.2, random_state=42)\n"
   ]
  },
  {
   "cell_type": "code",
   "execution_count": 9,
   "metadata": {},
   "outputs": [],
   "source": [
    "\n",
    "# Сохраняем индексы, которые попали в train/test\n",
    "train_indices = X_train.index\n",
    "test_indices = X_test.index\n"
   ]
  },
  {
   "cell_type": "code",
   "execution_count": 10,
   "metadata": {},
   "outputs": [],
   "source": [
    "\n",
    "# Шаг 2: Используем те же индексы для задачи предсказания успеха\n",
    "y_success = triggers_actions['result']  # таргет для успеха\n",
    "\n",
    "# Создаем выборки для успеха, используя сохраненные индексы\n",
    "X_train_success = X.loc[train_indices]\n",
    "X_test_success = X.loc[test_indices]\n"
   ]
  },
  {
   "cell_type": "code",
   "execution_count": 11,
   "metadata": {},
   "outputs": [],
   "source": [
    "y_train_success = y_success.loc[train_indices]\n",
    "y_test_success = y_success.loc[test_indices]"
   ]
  },
  {
   "cell_type": "markdown",
   "metadata": {},
   "source": [
    "### модели "
   ]
  },
  {
   "cell_type": "code",
   "execution_count": 12,
   "metadata": {},
   "outputs": [],
   "source": [
    "# модель для взаимодействия \n",
    "logreg_interaction = LogisticRegression(class_weight='balanced')\n",
    "logreg_interaction.fit(X_train, y_train_interaction)\n",
    "interaction_probs = logreg_interaction.predict_proba(X_test)[:, 1]"
   ]
  },
  {
   "cell_type": "code",
   "execution_count": null,
   "metadata": {},
   "outputs": [],
   "source": [
    "\n",
    "# модель для успеха \n",
    "logreg_success = LogisticRegression(class_weight='balanced', multi_class='ovr')\n",
    "logreg_success.fit(X_train_success, y_train_success)\n",
    "success_probs = logreg_success.predict_proba(X_test_success)[:, 1]\n"
   ]
  },
  {
   "cell_type": "code",
   "execution_count": null,
   "metadata": {},
   "outputs": [],
   "source": [
    "\n",
    "# добавляем обе вероятности в датафрейм для анализа\n",
    "triggers_actions.loc[test_indices, 'interaction_prob'] = interaction_probs\n",
    "triggers_actions.loc[test_indices, 'success_prob'] = success_probs"
   ]
  },
  {
   "cell_type": "markdown",
   "metadata": {},
   "source": [
    "### посмотрим как связаны вероятности и положительные результат взаимодействия"
   ]
  },
  {
   "cell_type": "code",
   "execution_count": 13,
   "metadata": {},
   "outputs": [],
   "source": [
    "# возьмём только тестовый набор данных \n",
    "filtered_data = triggers_actions[triggers_actions['interaction_prob'].notna()]"
   ]
  },
  {
   "cell_type": "code",
   "execution_count": null,
   "metadata": {},
   "outputs": [],
   "source": [
    "\n",
    "# рисуем гистограмму распределения вероятностей\n",
    "plt.figure(figsize=(10, 6))\n",
    "sns.histplot(filtered_data['interaction_prob'], bins=30, kde=True, color='blue')\n",
    "\n",
    "plt.title('Распределение вероятностей взаимодействия', fontsize=14)\n",
    "plt.xlabel('Вероятность взаимодействия', fontsize=12)\n",
    "plt.ylabel('Количество', fontsize=12)\n",
    "\n",
    "plt.show()"
   ]
  },
  {
   "cell_type": "code",
   "execution_count": null,
   "metadata": {},
   "outputs": [],
   "source": [
    "\n",
    "# рисуем гистограмму распределения вероятностей\n",
    "plt.figure(figsize=(10, 6))\n",
    "sns.histplot(filtered_data['success_prob'], bins=30, kde=True, color='blue')\n",
    "\n",
    "plt.title('Распределение вероятностей успешных взаимодействия', fontsize=14)\n",
    "plt.xlabel('Вероятность успешного взаимодействия', fontsize=12)\n",
    "plt.ylabel('Количество', fontsize=12)\n",
    "\n",
    "plt.show()"
   ]
  },
  {
   "cell_type": "code",
   "execution_count": null,
   "metadata": {},
   "outputs": [],
   "source": [
    "\n",
    "# считаем максимальное значение вероятностей\n",
    "max_prob = filtered_data['interaction_prob'].max()\n",
    "\n",
    "# создаем интервалы на основе максимального значения\n",
    "bins = np.linspace(0, max_prob, 11) \n",
    "filtered_data['probability_category'] = pd.cut(filtered_data['interaction_prob'], bins=bins, include_lowest=True)\n",
    "\n",
    "# считаем количество успешных и неуспешных взаимодействий по категориям\n",
    "summary = filtered_data.groupby('probability_category')['result'].value_counts().unstack().fillna(0)\n",
    "\n",
    "# рассчитываем долю успешных взаимодействий\n",
    "summary['success_rate'] = summary[1] / (summary[1] + summary[0] + summary[-1])"
   ]
  },
  {
   "cell_type": "code",
   "execution_count": null,
   "metadata": {},
   "outputs": [],
   "source": [
    "# строим график success_rate по категориям вероятностей\n",
    "plt.figure(figsize=(10, 6))\n",
    "sns.lineplot(x=summary.index.astype(str), y=summary['success_rate'], marker='o', color='green')\n",
    "\n",
    "# настройки графика\n",
    "plt.title('Динамика success_rate в зависимости от вероятности взаимодействия', fontsize=14)\n",
    "plt.xlabel('Категории вероятностей', fontsize=12)\n",
    "plt.ylabel('Доля успешных взаимодействий (success_rate)', fontsize=12)\n",
    "plt.xticks(rotation=45)\n",
    "\n",
    "plt.show()"
   ]
  },
  {
   "cell_type": "code",
   "execution_count": null,
   "metadata": {},
   "outputs": [],
   "source": [
    "filtered_data.head()"
   ]
  },
  {
   "cell_type": "code",
   "execution_count": 27,
   "metadata": {},
   "outputs": [],
   "source": [
    "# посчитаем P(success) как произведение двух вероятностей, это будет вероятность успеха с учётом вероятности взаимодействовать или нет \n",
    "filtered_data['P_success'] = filtered_data['interaction_prob'] * filtered_data['success_prob']\n"
   ]
  },
  {
   "cell_type": "code",
   "execution_count": null,
   "metadata": {},
   "outputs": [],
   "source": [
    "\n",
    "# Корреляционная матрица для анализа зависимости вероятностей\n",
    "correlation_matrix = filtered_data[['interaction_prob', 'success_prob', 'P_success']].corr()\n",
    "print(correlation_matrix)\n"
   ]
  },
  {
   "cell_type": "code",
   "execution_count": null,
   "metadata": {},
   "outputs": [],
   "source": [
    "\n",
    "\n",
    "# Распределение вероятностей взаимодействия и успеха\n",
    "plt.figure(figsize=(10, 6))\n",
    "sns.scatterplot(x='interaction_prob', y='P_success', data=filtered_data, alpha=0.5)\n",
    "plt.title('Связь вероятности взаимодействия и успеха')\n",
    "plt.xlabel('Вероятность взаимодействия (P(interaction))')\n",
    "plt.ylabel('Вероятность успеха (P(success))')\n",
    "plt.show()\n"
   ]
  },
  {
   "cell_type": "code",
   "execution_count": null,
   "metadata": {},
   "outputs": [],
   "source": [
    "\n",
    "# Визуализация P(result = 1 | interaction) и P(success)\n",
    "plt.figure(figsize=(10, 6))\n",
    "sns.scatterplot(x='success_prob', y='P_success', data=filtered_data, alpha=0.5)\n",
    "plt.title('Связь P(result = 1 | interaction) и P(success)')\n",
    "plt.xlabel('Условная вероятность успеха (P(result = 1 | interaction))')\n",
    "plt.ylabel('Вероятность успеха (P(success))')\n",
    "plt.show()\n"
   ]
  },
  {
   "cell_type": "code",
   "execution_count": null,
   "metadata": {},
   "outputs": [],
   "source": [
    "\n",
    "# Шаг 3: Анализ успешности\n",
    "\n",
    "# Создание категорий для анализа вероятностей\n",
    "triggers_actions['interaction_category'] = pd.cut(triggers_actions['interaction_prob'], bins=5)\n",
    "triggers_actions['success_category'] = pd.cut(triggers_actions['success_prob'], bins=5)\n",
    "\n",
    "# Сводная таблица для анализа успешности по категориям\n",
    "success_analysis = triggers_actions.groupby(['interaction_category', 'success_category']).agg({\n",
    "    'P_success': 'mean',  # Средняя вероятность успеха\n",
    "    'result': lambda x: (x == 1).mean()  # Доля успешных взаимодействий (где результат == 1)\n",
    "}).reset_index()\n",
    "\n",
    "print(success_analysis)"
   ]
  },
  {
   "cell_type": "markdown",
   "metadata": {},
   "source": [
    "### reinforcment learning "
   ]
  },
  {
   "cell_type": "markdown",
   "metadata": {},
   "source": [
    "### создание дискретных категорий "
   ]
  },
  {
   "cell_type": "code",
   "execution_count": 25,
   "metadata": {},
   "outputs": [],
   "source": [
    "# ВРЕМЯ С ПОСЛДНЕГО ВЗАИМОДЕЙСТВИЯ\n",
    "min_time = filtered_data['time_since_last_action'].min()\n",
    "max_time = filtered_data['time_since_last_action'].max()\n",
    "\n",
    "\n",
    "time_bins = np.linspace(min_time, max_time, 31)\n",
    "\n",
    "time_bins = sorted(set(time_bins))\n",
    "\n",
    "\n",
    "filtered_data['time_category'] = pd.cut(filtered_data['time_since_last_action'], bins=time_bins, include_lowest=True)"
   ]
  },
  {
   "cell_type": "code",
   "execution_count": null,
   "metadata": {},
   "outputs": [],
   "source": [
    "filtered_data['time_category'].value_counts()"
   ]
  },
  {
   "cell_type": "code",
   "execution_count": null,
   "metadata": {},
   "outputs": [],
   "source": [
    "\n",
    "# ТРИГЕРЫ\n",
    "threshold = 3000\n",
    "\n",
    "max_trigger_value = filtered_data['triggers_since_last_action'].max()\n",
    "bins = np.linspace(0, threshold, num=30).tolist() \n",
    "\n",
    "bins.append(max_trigger_value)  \n",
    "\n",
    "bins = sorted(set(bins))\n",
    "\n",
    "\n",
    "filtered_data['triggers_category'] = pd.cut(filtered_data['triggers_since_last_action'], bins=bins, include_lowest=True)\n",
    "print(filtered_data['triggers_category'].value_counts())\n"
   ]
  },
  {
   "cell_type": "code",
   "execution_count": null,
   "metadata": {},
   "outputs": [],
   "source": [
    "filtered_data.head()"
   ]
  },
  {
   "cell_type": "markdown",
   "metadata": {},
   "source": [
    "### создаем q таблиц\n"
   ]
  },
  {
   "cell_type": "code",
   "execution_count": 29,
   "metadata": {},
   "outputs": [],
   "source": [
    "\n",
    "# оставляем только необходимые столбцы\n",
    "filtered_data_time = filtered_data[['guid', 'time_category', 'result']].copy()\n",
    "# уникальные значения для time_category\n",
    "time_categories = filtered_data_time['time_category'].unique()\n",
    "\n",
    "# Подготовка данных для triggers_category\n",
    "filtered_data_triggers = filtered_data[['guid','result', 'triggers_category']].dropna()\n",
    "\n",
    "# уникальные значения для triggers_category\n",
    "triggers_categories = filtered_data_triggers['triggers_category'].unique()"
   ]
  },
  {
   "cell_type": "code",
   "execution_count": null,
   "metadata": {},
   "outputs": [],
   "source": [
    "\n",
    "# Инициализация Q-таблиц\n",
    "q_table_triggers = pd.DataFrame(index=triggers_categories, columns=[0, 1])\n",
    "q_table_triggers.fillna(0, inplace=True)\n",
    "\n",
    "q_table_time = pd.DataFrame(index=time_categories, columns=[0, 1])  # аналогично для времени\n",
    "q_table_time.fillna(0, inplace=True)"
   ]
  },
  {
   "cell_type": "markdown",
   "metadata": {},
   "source": [
    "### обучение модели на основе q таблиц "
   ]
  },
  {
   "cell_type": "code",
   "execution_count": 31,
   "metadata": {},
   "outputs": [],
   "source": [
    "class QLearningAgent:\n",
    "    def __init__(self, q_table_triggers, q_table_time, alpha=0.1, gamma=0.9, epsilon=0.9, epsilon_decay=0.99, min_epsilon=0.1):\n",
    "        self.q_table_triggers = q_table_triggers  # Q-таблица для триггеров\n",
    "        self.q_table_time = q_table_time  # Q-таблица для времени\n",
    "        self.alpha = alpha  # скорость обучения\n",
    "        self.gamma = gamma  # коэффициент дисконтирования\n",
    "        self.epsilon = epsilon  # параметр ε-жадной стратегии\n",
    "        self.epsilon_decay = epsilon_decay  # уменьшение ε\n",
    "        self.min_epsilon = min_epsilon  # минимальное значение для ε\n",
    "\n",
    "    # выбор действия на основе ε-жадной стратегии\n",
    "    def choose_action(self, trigger_state, time_state):\n",
    "        if random.uniform(0, 1) < self.epsilon:  # случайное действие (исследование)\n",
    "            return random.choice([0, 1])  # случайное действие\n",
    "        else:  # действие с максимальным Q-значением (эксплуатация)\n",
    "            # комбинируем значения Q из обеих таблиц\n",
    "            trigger_q_values = self.q_table_triggers.loc[trigger_state]\n",
    "            time_q_values = self.q_table_time.loc[time_state]\n",
    "            combined_q_values = trigger_q_values + time_q_values  # можно использовать сложение или другой метод\n",
    "            return combined_q_values.idxmax()  # выбираем действие с наибольшим комбинированным Q-значением\n",
    "\n",
    "    # обновление Q-таблиц\n",
    "    def update_q_tables(self, trigger_state, time_state, action, reward, next_trigger_state, next_time_state):\n",
    "        # обновляем Q-таблицу для триггеров\n",
    "        old_trigger_value = self.q_table_triggers.loc[trigger_state, action]\n",
    "        next_trigger_max = self.q_table_triggers.loc[next_trigger_state].max()\n",
    "        new_trigger_value = (1 - self.alpha) * old_trigger_value + self.alpha * (reward + self.gamma * next_trigger_max)\n",
    "        self.q_table_triggers.loc[trigger_state, action] = new_trigger_value\n",
    "\n",
    "        # обновляем Q-таблицу для времени\n",
    "        old_time_value = self.q_table_time.loc[time_state, action]\n",
    "        next_time_max = self.q_table_time.loc[next_time_state].max()\n",
    "        new_time_value = (1 - self.alpha) * old_time_value + self.alpha * (reward + self.gamma * next_time_max)\n",
    "        self.q_table_time.loc[time_state, action] = new_time_value\n",
    "\n",
    "    # обновление ε для уменьшения вероятности случайных действий\n",
    "    def decay_epsilon(self):\n",
    "        self.epsilon = max(self.min_epsilon, self.epsilon * self.epsilon_decay)\n"
   ]
  },
  {
   "cell_type": "code",
   "execution_count": null,
   "metadata": {},
   "outputs": [],
   "source": [
    "\n"
   ]
  },
  {
   "cell_type": "code",
   "execution_count": null,
   "metadata": {},
   "outputs": [],
   "source": [
    "\n",
    "# Создаем агента\n",
    "agent = QLearningAgent(q_table_triggers=q_table_triggers, q_table_time=q_table_time)\n",
    "\n",
    "# Обучение агента\n",
    "num_episodes = 1000  # количество эпизодов\n",
    "for episode in range(num_episodes):\n",
    "    # Случайное состояние (категория триггера и времени)\n",
    "    trigger_state = random.choice(triggers_categories)\n",
    "    time_state = random.choice(time_categories)\n",
    "\n",
    "    # Выбор действия (0 или 1)\n",
    "    action = agent.choose_action(trigger_state, time_state)\n",
    "\n",
    "    # Получаем награду за выбранное действие\n",
    "    reward = filtered_data_triggers[\n",
    "        (filtered_data_triggers['triggers_category'] == trigger_state) &\n",
    "        (filtered_data_triggers['result'] == action)\n",
    "    ]['result'].sum()\n",
    "\n",
    "    # Случайное следующее состояние\n",
    "    next_trigger_state = random.choice(triggers_categories)\n",
    "    next_time_state = random.choice(time_categories)\n",
    "\n",
    "    # Обновляем Q-таблицы\n",
    "    agent.update_q_tables(trigger_state, time_state, action, reward, next_trigger_state, next_time_state)\n",
    "\n",
    "    # Уменьшаем ε (для уменьшения случайных действий)\n",
    "    agent.decay_epsilon()\n",
    "\n",
    "# Выводим обновленные Q-таблицы\n",
    "print(\"Обученная Q-таблица для триггеров:\")\n",
    "print(agent.q_table_triggers)"
   ]
  },
  {
   "cell_type": "code",
   "execution_count": null,
   "metadata": {},
   "outputs": [],
   "source": []
  },
  {
   "cell_type": "code",
   "execution_count": null,
   "metadata": {},
   "outputs": [],
   "source": [
    "print(\"Обученная Q-таблица для времени:\")\n",
    "print(agent.q_table_time)"
   ]
  },
  {
   "cell_type": "code",
   "execution_count": null,
   "metadata": {},
   "outputs": [],
   "source": []
  }
 ],
 "metadata": {
  "kernelspec": {
   "display_name": "Python 3",
   "language": "python",
   "name": "python3"
  },
  "language_info": {
   "codemirror_mode": {
    "name": "ipython",
    "version": 3
   },
   "file_extension": ".py",
   "mimetype": "text/x-python",
   "name": "python",
   "nbconvert_exporter": "python",
   "pygments_lexer": "ipython3",
   "version": "3.12.7"
  }
 },
 "nbformat": 4,
 "nbformat_minor": 4
}
