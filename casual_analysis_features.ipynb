{
 "cells": [
  {
   "cell_type": "code",
   "execution_count": 1,
   "metadata": {},
   "outputs": [],
   "source": [
    "import pandas as pd\n",
    "import numpy as np\n",
    "from datetime import timedelta\n",
    "\n",
    "pd.set_option('display.max_rows', None)\n",
    "pd.set_option('display.max_columns', None)\n",
    "pd.set_option('display.max_colwidth', None)\n",
    "pd.options.display.max_columns=None\n",
    "pd.options.mode.chained_assignment = None"
   ]
  },
  {
   "cell_type": "code",
   "execution_count": 2,
   "metadata": {},
   "outputs": [],
   "source": [
    "triggers_actions = pd.read_csv(r'/home/kusapochka/triggers/triggers_actions.csv')"
   ]
  },
  {
   "cell_type": "code",
   "execution_count": 3,
   "metadata": {},
   "outputs": [],
   "source": [
    "triggers_actions['date'] = pd.to_datetime(triggers_actions['date'], errors='coerce')\n",
    "triggers_actions['action_date'] = pd.to_datetime(triggers_actions['action_date'], errors='coerce')"
   ]
  },
  {
   "cell_type": "code",
   "execution_count": 4,
   "metadata": {},
   "outputs": [],
   "source": [
    "# подготовим признаки, чтобы далее оценить какие типы взаимодействий или комбинации тригеров приводят к более успешному результату "
   ]
  },
  {
   "cell_type": "code",
   "execution_count": 5,
   "metadata": {},
   "outputs": [],
   "source": [
    "# сортируем по пользователю и дате\n",
    "triggers_actions = triggers_actions.sort_values(by=['guid', 'date'])"
   ]
  },
  {
   "cell_type": "markdown",
   "metadata": {},
   "source": [
    "### признак - время с поледнего взаимодействия "
   ]
  },
  {
   "cell_type": "code",
   "execution_count": 5,
   "metadata": {},
   "outputs": [],
   "source": [
    "# добавим в колонку 'last_action_date' смещённое время взаимодействия, чтобы дальше отталкиваться от этого времени, \n",
    "# как последнего, когда было произведено взаимодействие\n",
    "triggers_actions['last_action_date'] = triggers_actions.groupby('guid')['action_date'].shift()"
   ]
  },
  {
   "cell_type": "code",
   "execution_count": 6,
   "metadata": {},
   "outputs": [],
   "source": [
    "# теперь по каждому пользователю заполним пропуски этой самой датой, ведь пропуск обозначает, что взаимодействия не было, \n",
    "# тогда эта дата(до новой) будет для этих тригеров последней, когда было взаимодействие\n",
    "# важный момент с самой строкой, когды было взаимодействие нам тоже нужно заполнить её датой прошлого взаимодействия,\n",
    "# чтобы посмотреть сколько времени было до последнего взаимодействия, для этого и делался shift  \n",
    "triggers_actions['last_action_date'] = triggers_actions.groupby('guid')['last_action_date'].ffill()"
   ]
  },
  {
   "cell_type": "code",
   "execution_count": null,
   "metadata": {},
   "outputs": [],
   "source": [
    "# теперь собственно посчитаем время между текущим моментов и датой последнего действия \n",
    "# пропуски обозначают, что в нашем временном отрезке взаимодействия не было, тогда будем считать для \n",
    "# каждого момента - время от первого тригера \n",
    "def time_since_last_action(group):\n",
    "    # вычисляем минимальную дату для группы\n",
    "    date_min = group['date'].min()\n",
    "\n",
    "    # если есть значение в 'last_action_date', считаем разницу между текущей и последней датой\n",
    "    # если нет, считаем разницу между текущей датой и минимальной датой группы\n",
    "    group['time_since_last_action'] = group.apply(\n",
    "        lambda row: (row['date'] - row['last_action_date']).total_seconds() / (3600 * 24)\n",
    "        if pd.notna(row['last_action_date'])\n",
    "        else (row['date'] - date_min).total_seconds() / (3600 * 24),\n",
    "        axis=1\n",
    "    )\n",
    "    return group\n",
    "\n",
    "# применяем функцию к сгруппированным данным по 'guid'\n",
    "triggers_actions = triggers_actions.groupby('guid', group_keys=False).apply(time_since_last_action)"
   ]
  },
  {
   "cell_type": "code",
   "execution_count": null,
   "metadata": {},
   "outputs": [],
   "source": [
    "triggers_actions.to_csv(r'C:\\Users\\User\\triggers\\time_since_last_action.csv',index = False)"
   ]
  },
  {
   "cell_type": "code",
   "execution_count": null,
   "metadata": {},
   "outputs": [],
   "source": [
    "# отрицательное время появилось скорее всего из-за неудаленных дубликатов, все эти строки с взаимодействием \n",
    "# проверим, если это так, то просто удалим строки с отриц значениями"
   ]
  },
  {
   "cell_type": "markdown",
   "metadata": {},
   "source": [
    "### признак - тип последнего удачного взаимодействия"
   ]
  },
  {
   "cell_type": "code",
   "execution_count": 2,
   "metadata": {},
   "outputs": [],
   "source": [
    "triggers_actions = pd.read_csv(r'C:\\Users\\User\\triggers\\time_since_last_action.csv')"
   ]
  },
  {
   "cell_type": "code",
   "execution_count": 3,
   "metadata": {},
   "outputs": [],
   "source": [
    "# создаем колонку для хранения типа последнего успешного взаимодействия, по умолчанию None\n",
    "triggers_actions['last_successful_type'] = None"
   ]
  },
  {
   "cell_type": "code",
   "execution_count": null,
   "metadata": {},
   "outputs": [],
   "source": [
    "\n",
    "# находим тип успешного действия и сдвигаем его на одну строку вниз\n",
    "triggers_actions['last_successful_type'] = triggers_actions.groupby('guid').apply(\n",
    "    lambda group: group['type'].where(group['result'] == 1).shift(1)\n",
    ").reset_index(level=0, drop=True)"
   ]
  },
  {
   "cell_type": "code",
   "execution_count": null,
   "metadata": {},
   "outputs": [],
   "source": [
    "triggers_actions[triggers_actions['result'] == 1].head(5)"
   ]
  },
  {
   "cell_type": "code",
   "execution_count": 13,
   "metadata": {},
   "outputs": [],
   "source": [
    "one= triggers_actions[triggers_actions['guid'] == '018783be-25da-710a-36a7-2d50f5a61395'] "
   ]
  },
  {
   "cell_type": "code",
   "execution_count": null,
   "metadata": {},
   "outputs": [],
   "source": [
    "one"
   ]
  },
  {
   "cell_type": "code",
   "execution_count": null,
   "metadata": {},
   "outputs": [],
   "source": [
    "triggers_actions['last_successful_type'].value_counts()"
   ]
  },
  {
   "cell_type": "code",
   "execution_count": null,
   "metadata": {},
   "outputs": [],
   "source": [
    "triggers_actions['last_successful_type']"
   ]
  },
  {
   "cell_type": "code",
   "execution_count": 12,
   "metadata": {},
   "outputs": [],
   "source": [
    "# распространяем последний успешный тип на все последующие строки внутри guid\n",
    "triggers_actions['last_successful_type'] = triggers_actions.groupby('guid')['last_successful_type'].ffill()"
   ]
  },
  {
   "cell_type": "code",
   "execution_count": 15,
   "metadata": {},
   "outputs": [],
   "source": [
    "triggers_actions.to_csv(r'C:\\Users\\User\\triggers\\time_since_last_action_type.csv',index = False)"
   ]
  },
  {
   "cell_type": "code",
   "execution_count": null,
   "metadata": {},
   "outputs": [],
   "source": [
    "trigers_actions_save = triggers_actions.drop(columns = 'triggers_before_next_action')"
   ]
  },
  {
   "cell_type": "code",
   "execution_count": null,
   "metadata": {},
   "outputs": [],
   "source": [
    "triggers_actions.head(3)"
   ]
  },
  {
   "cell_type": "markdown",
   "metadata": {},
   "source": [
    "### добавляем признак - количество тригеров с момента последнего взаимодействия или за последние 14 дней"
   ]
  },
  {
   "cell_type": "code",
   "execution_count": 1,
   "metadata": {},
   "outputs": [],
   "source": [
    "import pandas as pd\n",
    "import numpy as np\n",
    "from datetime import timedelta\n",
    "\n",
    "pd.set_option('display.max_rows', None)\n",
    "pd.set_option('display.max_columns', None)\n",
    "pd.set_option('display.max_colwidth', None)\n",
    "pd.options.display.max_columns=None\n",
    "pd.options.mode.chained_assignment = None"
   ]
  },
  {
   "cell_type": "code",
   "execution_count": 2,
   "metadata": {},
   "outputs": [],
   "source": [
    "triggers_actions_check = pd.read_csv(r'/home/kusapochka/triggers/time_since_last_action_type.csv')"
   ]
  },
  {
   "cell_type": "code",
   "execution_count": 3,
   "metadata": {},
   "outputs": [],
   "source": [
    "# создаем маску для строк с действием\n",
    "action_mask = triggers_actions_check['action_date'].notna()\n",
    "\n",
    "# создаем сдвинутую маску действий для каждой группы\n",
    "triggers_actions_check['shifted_action_mask'] = triggers_actions_check.groupby('guid')['action_date'].transform(lambda x: x.notna().shift(1, fill_value=False))\n",
    "\n",
    "# обнуляем счётчик на строках, следующих за действием\n",
    "triggers_actions_check.loc[triggers_actions_check['shifted_action_mask'], 'trigger_counter'] = 0\n"
   ]
  },
  {
   "cell_type": "code",
   "execution_count": null,
   "metadata": {},
   "outputs": [],
   "source": [
    "triggers_actions_check.head(5)"
   ]
  },
  {
   "cell_type": "code",
   "execution_count": 4,
   "metadata": {},
   "outputs": [],
   "source": [
    "# Создаем маску для нулей\n",
    "zero_mask = triggers_actions_check['trigger_counter'] == 0\n",
    "\n",
    "# Заполняем NaN для удобства подсчета\n",
    "triggers_actions_check['temp_counter'] = triggers_actions_check['trigger_counter'].fillna(-1)"
   ]
  },
  {
   "cell_type": "code",
   "execution_count": 5,
   "metadata": {},
   "outputs": [],
   "source": [
    "\n",
    "# Считаем кумулятивную сумму количества строк между нулями\n",
    "triggers_actions_check['cumsum'] = triggers_actions_check.groupby('guid')['temp_counter'].transform(lambda x: (x == 0).cumsum())"
   ]
  },
  {
   "cell_type": "code",
   "execution_count": 6,
   "metadata": {},
   "outputs": [],
   "source": [
    "\n",
    "# Теперь считаем количество строк после последнего нуля в каждой группе\n",
    "triggers_actions_check['count_from_zero'] = triggers_actions_check.groupby(['guid', 'cumsum']).cumcount()"
   ]
  },
  {
   "cell_type": "code",
   "execution_count": 7,
   "metadata": {},
   "outputs": [],
   "source": [
    "\n",
    "# Восстанавливаем нули на строках, где был 0\n",
    "triggers_actions_check['count_from_zero'] = triggers_actions_check['count_from_zero'].where(~zero_mask, 0)"
   ]
  },
  {
   "cell_type": "code",
   "execution_count": 8,
   "metadata": {},
   "outputs": [],
   "source": [
    "\n",
    "# Добавляем 1, чтобы счет начинался с 1 для строк после нуля\n",
    "triggers_actions_check['count_from_zero'] = triggers_actions_check['count_from_zero'] + 1\n",
    "\n"
   ]
  },
  {
   "cell_type": "code",
   "execution_count": null,
   "metadata": {},
   "outputs": [],
   "source": [
    "triggers_actions_check.drop(columns = ['last_action_date','shifted_action_mask','trigger_counter','temp_counter','cumsum'],inplace = True)\n",
    "triggers_actions_check = triggers_actions_check.rename(columns = {'count_from_zero':'triggers_since_last_action'})\n",
    "triggers_actions_check.head(3)"
   ]
  },
  {
   "cell_type": "code",
   "execution_count": 12,
   "metadata": {},
   "outputs": [],
   "source": [
    "triggers_actions_check.to_csv(r'/home/kusapochka/triggers/triggers_features.csv',index = False)"
   ]
  },
  {
   "cell_type": "code",
   "execution_count": null,
   "metadata": {},
   "outputs": [],
   "source": [
    "# Вывод результата\n",
    "triggers_actions_check[['guid', 'trigger_counter', 'last_action_date','count_from_zero']].head(500)\n"
   ]
  },
  {
   "cell_type": "code",
   "execution_count": null,
   "metadata": {},
   "outputs": [],
   "source": []
  },
  {
   "cell_type": "code",
   "execution_count": null,
   "metadata": {},
   "outputs": [],
   "source": []
  },
  {
   "cell_type": "code",
   "execution_count": null,
   "metadata": {},
   "outputs": [],
   "source": []
  },
  {
   "cell_type": "code",
   "execution_count": null,
   "metadata": {},
   "outputs": [],
   "source": []
  },
  {
   "cell_type": "markdown",
   "metadata": {},
   "source": []
  },
  {
   "cell_type": "code",
   "execution_count": null,
   "metadata": {},
   "outputs": [],
   "source": []
  }
 ],
 "metadata": {
  "kernelspec": {
   "display_name": "Python 3",
   "language": "python",
   "name": "python3"
  },
  "language_info": {
   "codemirror_mode": {
    "name": "ipython",
    "version": 3
   },
   "file_extension": ".py",
   "mimetype": "text/x-python",
   "name": "python",
   "nbconvert_exporter": "python",
   "pygments_lexer": "ipython3",
   "version": "3.10.12"
  }
 },
 "nbformat": 4,
 "nbformat_minor": 2
}
