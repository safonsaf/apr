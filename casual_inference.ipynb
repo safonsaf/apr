{
 "cells": [
  {
   "cell_type": "code",
   "execution_count": 1,
   "metadata": {},
   "outputs": [],
   "source": [
    "import pandas as pd\n",
    "import numpy as np\n",
    "\n",
    "pd.set_option('display.max_rows', None)\n",
    "pd.set_option('display.max_columns', None)\n",
    "pd.set_option('display.max_colwidth', None)\n",
    "pd.options.display.max_columns=None\n",
    "pd.options.mode.chained_assignment = None"
   ]
  },
  {
   "cell_type": "code",
   "execution_count": 2,
   "metadata": {},
   "outputs": [],
   "source": [
    "triggers_actions = pd.read_csv(r'/home/kusapochka/apr_test/triggers_actions.csv')"
   ]
  },
  {
   "cell_type": "code",
   "execution_count": 3,
   "metadata": {},
   "outputs": [],
   "source": [
    "# 1. Оставляем только нужные столбцы для анализа\n",
    "df = triggers_actions[['guid', 'date', 'trigger', 'type', 'result']].copy()"
   ]
  },
  {
   "cell_type": "code",
   "execution_count": 4,
   "metadata": {},
   "outputs": [],
   "source": [
    "# 2. Обработка пропусков в 'result'\n",
    "df['result'] = df['result'].fillna(-1)"
   ]
  },
  {
   "cell_type": "code",
   "execution_count": 5,
   "metadata": {},
   "outputs": [],
   "source": [
    "# 3. Преобразуем триггеры в числовые категории\n",
    "df['trigger_cat'], unique_triggers = pd.factorize(df['trigger'])"
   ]
  },
  {
   "cell_type": "code",
   "execution_count": 6,
   "metadata": {},
   "outputs": [],
   "source": [
    "# 4. Сортируем по пользователям и времени взаимодействия\n",
    "df= df.sort_values(by=['guid', 'date']).reset_index(drop=True)"
   ]
  },
  {
   "cell_type": "code",
   "execution_count": 7,
   "metadata": {},
   "outputs": [
    {
     "data": {
      "text/html": [
       "<div>\n",
       "<style scoped>\n",
       "    .dataframe tbody tr th:only-of-type {\n",
       "        vertical-align: middle;\n",
       "    }\n",
       "\n",
       "    .dataframe tbody tr th {\n",
       "        vertical-align: top;\n",
       "    }\n",
       "\n",
       "    .dataframe thead th {\n",
       "        text-align: right;\n",
       "    }\n",
       "</style>\n",
       "<table border=\"1\" class=\"dataframe\">\n",
       "  <thead>\n",
       "    <tr style=\"text-align: right;\">\n",
       "      <th></th>\n",
       "      <th>guid</th>\n",
       "      <th>date</th>\n",
       "      <th>trigger</th>\n",
       "      <th>type</th>\n",
       "      <th>result</th>\n",
       "      <th>trigger_cat</th>\n",
       "    </tr>\n",
       "  </thead>\n",
       "  <tbody>\n",
       "    <tr>\n",
       "      <th>0</th>\n",
       "      <td>0187808e-d664-cc1d-403d-b93ac1365ee8</td>\n",
       "      <td>2024-05-20 15:30:28</td>\n",
       "      <td>59</td>\n",
       "      <td>1</td>\n",
       "      <td>-1.0</td>\n",
       "      <td>305</td>\n",
       "    </tr>\n",
       "    <tr>\n",
       "      <th>1</th>\n",
       "      <td>0187808e-d664-cc1d-403d-b93ac1365ee8</td>\n",
       "      <td>2024-05-23 07:04:59</td>\n",
       "      <td>59</td>\n",
       "      <td>1</td>\n",
       "      <td>-1.0</td>\n",
       "      <td>305</td>\n",
       "    </tr>\n",
       "    <tr>\n",
       "      <th>2</th>\n",
       "      <td>0187808e-e508-2486-7385-30069e7c0a7f</td>\n",
       "      <td>2024-05-21 18:45:45</td>\n",
       "      <td>12</td>\n",
       "      <td>1</td>\n",
       "      <td>-1.0</td>\n",
       "      <td>94</td>\n",
       "    </tr>\n",
       "    <tr>\n",
       "      <th>3</th>\n",
       "      <td>0187808e-e508-2486-7385-30069e7c0a7f</td>\n",
       "      <td>2024-05-21 18:45:46</td>\n",
       "      <td>27</td>\n",
       "      <td>1</td>\n",
       "      <td>-1.0</td>\n",
       "      <td>110</td>\n",
       "    </tr>\n",
       "    <tr>\n",
       "      <th>4</th>\n",
       "      <td>0187808e-e508-2486-7385-30069e7c0a7f</td>\n",
       "      <td>2024-05-21 18:45:46</td>\n",
       "      <td>168</td>\n",
       "      <td>1</td>\n",
       "      <td>-1.0</td>\n",
       "      <td>1</td>\n",
       "    </tr>\n",
       "  </tbody>\n",
       "</table>\n",
       "</div>"
      ],
      "text/plain": [
       "                                   guid                 date  trigger  type  \\\n",
       "0  0187808e-d664-cc1d-403d-b93ac1365ee8  2024-05-20 15:30:28       59     1   \n",
       "1  0187808e-d664-cc1d-403d-b93ac1365ee8  2024-05-23 07:04:59       59     1   \n",
       "2  0187808e-e508-2486-7385-30069e7c0a7f  2024-05-21 18:45:45       12     1   \n",
       "3  0187808e-e508-2486-7385-30069e7c0a7f  2024-05-21 18:45:46       27     1   \n",
       "4  0187808e-e508-2486-7385-30069e7c0a7f  2024-05-21 18:45:46      168     1   \n",
       "\n",
       "   result  trigger_cat  \n",
       "0    -1.0          305  \n",
       "1    -1.0          305  \n",
       "2    -1.0           94  \n",
       "3    -1.0          110  \n",
       "4    -1.0            1  "
      ]
     },
     "execution_count": 7,
     "metadata": {},
     "output_type": "execute_result"
    }
   ],
   "source": [
    "\n",
    "df.head()\n"
   ]
  },
  {
   "cell_type": "code",
   "execution_count": 8,
   "metadata": {},
   "outputs": [],
   "source": [
    "df['date'] = pd.to_datetime(df['date'])\n",
    "df = df.sort_values(by=['guid', 'date'])"
   ]
  },
  {
   "cell_type": "code",
   "execution_count": 9,
   "metadata": {},
   "outputs": [],
   "source": [
    "# Функция для получения всех триггеров до активного действия\n",
    "def get_previous_triggers(user_triggers):\n",
    "    previous_triggers = []\n",
    "    for i in range(len(user_triggers)):\n",
    "        # Получаем триггеры до текущего действия\n",
    "        triggers_before_action = user_triggers.iloc[:i]['trigger_cat'].tolist()\n",
    "        previous_triggers.append(triggers_before_action)\n",
    "    return previous_triggers\n"
   ]
  },
  {
   "cell_type": "code",
   "execution_count": null,
   "metadata": {},
   "outputs": [],
   "source": [
    "\n",
    "# Применяем функцию к каждому пользователю\n",
    "df['previous_triggers'] = df.groupby('guid').apply(get_previous_triggers).reset_index(drop=True)\n"
   ]
  },
  {
   "cell_type": "code",
   "execution_count": null,
   "metadata": {},
   "outputs": [],
   "source": [
    "\n",
    "# Преобразуем списки триггеров в новые признаки (например, мы можем использовать количество триггеров и их сумму)\n",
    "df['num_previous_triggers'] = df['previous_triggers'].apply(len)\n",
    "df['sum_previous_triggers'] = df['previous_triggers'].apply(lambda x: sum(x) if x else 0)\n",
    "\n",
    "# Удаляем временные столбцы, если они не нужны\n",
    "df = df.drop(columns=['previous_triggers'])\n",
    "\n",
    "print(df[['guid', 'date', 'trigger', 'type', 'result', 'num_previous_triggers', 'sum_previous_triggers']].head())\n"
   ]
  }
 ],
 "metadata": {
  "kernelspec": {
   "display_name": "Python 3",
   "language": "python",
   "name": "python3"
  },
  "language_info": {
   "codemirror_mode": {
    "name": "ipython",
    "version": 3
   },
   "file_extension": ".py",
   "mimetype": "text/x-python",
   "name": "python",
   "nbconvert_exporter": "python",
   "pygments_lexer": "ipython3",
   "version": "3.10.12"
  }
 },
 "nbformat": 4,
 "nbformat_minor": 2
}
