{
 "cells": [
  {
   "cell_type": "code",
   "execution_count": 1,
   "metadata": {},
   "outputs": [
    {
     "name": "stderr",
     "output_type": "stream",
     "text": [
      "C:\\Users\\User\\AppData\\Local\\Temp\\ipykernel_16744\\460341617.py:1: DeprecationWarning: \n",
      "Pyarrow will become a required dependency of pandas in the next major release of pandas (pandas 3.0),\n",
      "(to allow more performant data types, such as the Arrow string type, and better interoperability with other libraries)\n",
      "but was not found to be installed on your system.\n",
      "If this would cause problems for you,\n",
      "please provide us feedback at https://github.com/pandas-dev/pandas/issues/54466\n",
      "        \n",
      "  import pandas as pd\n"
     ]
    }
   ],
   "source": [
    "import pandas as pd\n",
    "import numpy as np\n",
    "\n",
    "pd.set_option('display.max_rows', None)\n",
    "pd.set_option('display.max_columns', None)\n",
    "pd.set_option('display.max_colwidth', None)\n",
    "pd.options.display.max_columns=None\n",
    "pd.options.mode.chained_assignment = None\n"
   ]
  },
  {
   "cell_type": "code",
   "execution_count": 2,
   "metadata": {},
   "outputs": [],
   "source": [
    "actions = pd.read_csv(r'C:\\Users\\User\\apr_test\\actions.csv')\n",
    "triggers = pd.read_csv(r'C:\\Users\\User\\triggers\\triggers.csv')"
   ]
  },
  {
   "cell_type": "code",
   "execution_count": 3,
   "metadata": {},
   "outputs": [
    {
     "data": {
      "text/html": [
       "<div>\n",
       "<style scoped>\n",
       "    .dataframe tbody tr th:only-of-type {\n",
       "        vertical-align: middle;\n",
       "    }\n",
       "\n",
       "    .dataframe tbody tr th {\n",
       "        vertical-align: top;\n",
       "    }\n",
       "\n",
       "    .dataframe thead th {\n",
       "        text-align: right;\n",
       "    }\n",
       "</style>\n",
       "<table border=\"1\" class=\"dataframe\">\n",
       "  <thead>\n",
       "    <tr style=\"text-align: right;\">\n",
       "      <th></th>\n",
       "      <th>guid</th>\n",
       "      <th>date</th>\n",
       "      <th>trigger</th>\n",
       "      <th>type</th>\n",
       "    </tr>\n",
       "  </thead>\n",
       "  <tbody>\n",
       "    <tr>\n",
       "      <th>0</th>\n",
       "      <td>018bdd75-83fc-2510-50e7-153f7b5e4b64</td>\n",
       "      <td>2024-05-31 23:55:27</td>\n",
       "      <td>2047</td>\n",
       "      <td>2</td>\n",
       "    </tr>\n",
       "    <tr>\n",
       "      <th>1</th>\n",
       "      <td>0187a472-becb-7994-5e1e-f179b60bc141</td>\n",
       "      <td>2024-05-31 23:55:27</td>\n",
       "      <td>168</td>\n",
       "      <td>2</td>\n",
       "    </tr>\n",
       "    <tr>\n",
       "      <th>2</th>\n",
       "      <td>018ba175-9e02-8c7a-e522-6e5fec6949a0</td>\n",
       "      <td>2024-05-31 23:55:26</td>\n",
       "      <td>1807</td>\n",
       "      <td>2</td>\n",
       "    </tr>\n",
       "    <tr>\n",
       "      <th>3</th>\n",
       "      <td>018ba175-9e02-8c7a-e522-6e5fec6949a0</td>\n",
       "      <td>2024-05-31 23:55:26</td>\n",
       "      <td>2048</td>\n",
       "      <td>2</td>\n",
       "    </tr>\n",
       "    <tr>\n",
       "      <th>4</th>\n",
       "      <td>018e9cfb-c8bc-f38b-e209-5a77c5324a14</td>\n",
       "      <td>2024-05-31 23:55:26</td>\n",
       "      <td>1773</td>\n",
       "      <td>2</td>\n",
       "    </tr>\n",
       "  </tbody>\n",
       "</table>\n",
       "</div>"
      ],
      "text/plain": [
       "                                   guid                 date  trigger  type\n",
       "0  018bdd75-83fc-2510-50e7-153f7b5e4b64  2024-05-31 23:55:27     2047     2\n",
       "1  0187a472-becb-7994-5e1e-f179b60bc141  2024-05-31 23:55:27      168     2\n",
       "2  018ba175-9e02-8c7a-e522-6e5fec6949a0  2024-05-31 23:55:26     1807     2\n",
       "3  018ba175-9e02-8c7a-e522-6e5fec6949a0  2024-05-31 23:55:26     2048     2\n",
       "4  018e9cfb-c8bc-f38b-e209-5a77c5324a14  2024-05-31 23:55:26     1773     2"
      ]
     },
     "execution_count": 3,
     "metadata": {},
     "output_type": "execute_result"
    }
   ],
   "source": [
    "triggers.head()"
   ]
  },
  {
   "cell_type": "code",
   "execution_count": 4,
   "metadata": {},
   "outputs": [],
   "source": [
    "# объединение данных по guid, чтобы сопоставить действия с триггерами одного пользователя\n",
    "merged_data = pd.merge(triggers, actions[['guid', 'date', 'result']], on='guid', how='inner')\n",
    "\n",
    "# фильтрация триггеров, которые произошли до действия\n",
    "merged_data = merged_data[merged_data['date_x'] <= merged_data['date_y']]\n",
    "\n",
    "\n",
    "# Сортировка по guid и дате действия\n",
    "merged_data = merged_data.sort_values(by=['guid', 'date_y', 'date_x'])"
   ]
  },
  {
   "cell_type": "code",
   "execution_count": 5,
   "metadata": {},
   "outputs": [],
   "source": [
    "\n",
    "# Для каждого действия выбираем последний триггер до действия (максимальную дату триггера)\n",
    "closest_trigger = merged_data.groupby(['guid', 'date_y']).tail(1).reset_index(drop=True)\n",
    "# Переименуем столбцы для удобства\n",
    "closest_trigger = closest_trigger.rename(columns={'date_x': 'date', 'date_y': 'action_date'})"
   ]
  },
  {
   "cell_type": "code",
   "execution_count": 6,
   "metadata": {},
   "outputs": [],
   "source": [
    "triggers_actions = pd.merge(triggers,closest_trigger,how='left',on = ['guid','date','trigger','type'])"
   ]
  },
  {
   "cell_type": "code",
   "execution_count": 7,
   "metadata": {},
   "outputs": [
    {
     "data": {
      "text/plain": [
       "(43074627, 6)"
      ]
     },
     "execution_count": 7,
     "metadata": {},
     "output_type": "execute_result"
    }
   ],
   "source": [
    "triggers_actions.shape"
   ]
  },
  {
   "cell_type": "code",
   "execution_count": 8,
   "metadata": {},
   "outputs": [
    {
     "data": {
      "text/html": [
       "<div>\n",
       "<style scoped>\n",
       "    .dataframe tbody tr th:only-of-type {\n",
       "        vertical-align: middle;\n",
       "    }\n",
       "\n",
       "    .dataframe tbody tr th {\n",
       "        vertical-align: top;\n",
       "    }\n",
       "\n",
       "    .dataframe thead th {\n",
       "        text-align: right;\n",
       "    }\n",
       "</style>\n",
       "<table border=\"1\" class=\"dataframe\">\n",
       "  <thead>\n",
       "    <tr style=\"text-align: right;\">\n",
       "      <th></th>\n",
       "      <th>guid</th>\n",
       "      <th>date</th>\n",
       "      <th>trigger</th>\n",
       "      <th>type</th>\n",
       "      <th>action_date</th>\n",
       "      <th>result</th>\n",
       "    </tr>\n",
       "  </thead>\n",
       "  <tbody>\n",
       "    <tr>\n",
       "      <th>0</th>\n",
       "      <td>018bdd75-83fc-2510-50e7-153f7b5e4b64</td>\n",
       "      <td>2024-05-31 23:55:27</td>\n",
       "      <td>2047</td>\n",
       "      <td>2</td>\n",
       "      <td>NaN</td>\n",
       "      <td>NaN</td>\n",
       "    </tr>\n",
       "    <tr>\n",
       "      <th>1</th>\n",
       "      <td>0187a472-becb-7994-5e1e-f179b60bc141</td>\n",
       "      <td>2024-05-31 23:55:27</td>\n",
       "      <td>168</td>\n",
       "      <td>2</td>\n",
       "      <td>NaN</td>\n",
       "      <td>NaN</td>\n",
       "    </tr>\n",
       "    <tr>\n",
       "      <th>2</th>\n",
       "      <td>018ba175-9e02-8c7a-e522-6e5fec6949a0</td>\n",
       "      <td>2024-05-31 23:55:26</td>\n",
       "      <td>1807</td>\n",
       "      <td>2</td>\n",
       "      <td>NaN</td>\n",
       "      <td>NaN</td>\n",
       "    </tr>\n",
       "    <tr>\n",
       "      <th>3</th>\n",
       "      <td>018ba175-9e02-8c7a-e522-6e5fec6949a0</td>\n",
       "      <td>2024-05-31 23:55:26</td>\n",
       "      <td>2048</td>\n",
       "      <td>2</td>\n",
       "      <td>NaN</td>\n",
       "      <td>NaN</td>\n",
       "    </tr>\n",
       "    <tr>\n",
       "      <th>4</th>\n",
       "      <td>018e9cfb-c8bc-f38b-e209-5a77c5324a14</td>\n",
       "      <td>2024-05-31 23:55:26</td>\n",
       "      <td>1773</td>\n",
       "      <td>2</td>\n",
       "      <td>2024-05-31 23:57:14</td>\n",
       "      <td>0.0</td>\n",
       "    </tr>\n",
       "  </tbody>\n",
       "</table>\n",
       "</div>"
      ],
      "text/plain": [
       "                                   guid                 date  trigger  type  \\\n",
       "0  018bdd75-83fc-2510-50e7-153f7b5e4b64  2024-05-31 23:55:27     2047     2   \n",
       "1  0187a472-becb-7994-5e1e-f179b60bc141  2024-05-31 23:55:27      168     2   \n",
       "2  018ba175-9e02-8c7a-e522-6e5fec6949a0  2024-05-31 23:55:26     1807     2   \n",
       "3  018ba175-9e02-8c7a-e522-6e5fec6949a0  2024-05-31 23:55:26     2048     2   \n",
       "4  018e9cfb-c8bc-f38b-e209-5a77c5324a14  2024-05-31 23:55:26     1773     2   \n",
       "\n",
       "           action_date  result  \n",
       "0                  NaN     NaN  \n",
       "1                  NaN     NaN  \n",
       "2                  NaN     NaN  \n",
       "3                  NaN     NaN  \n",
       "4  2024-05-31 23:57:14     0.0  "
      ]
     },
     "execution_count": 8,
     "metadata": {},
     "output_type": "execute_result"
    }
   ],
   "source": [
    "triggers_actions.head()"
   ]
  },
  {
   "cell_type": "code",
   "execution_count": 9,
   "metadata": {},
   "outputs": [],
   "source": [
    "triggers_actions.to_csv(r'C:\\Users\\User\\triggers\\triggers_actions.csv',index = False)"
   ]
  }
 ],
 "metadata": {
  "kernelspec": {
   "display_name": "Python 3",
   "language": "python",
   "name": "python3"
  },
  "language_info": {
   "codemirror_mode": {
    "name": "ipython",
    "version": 3
   },
   "file_extension": ".py",
   "mimetype": "text/x-python",
   "name": "python",
   "nbconvert_exporter": "python",
   "pygments_lexer": "ipython3",
   "version": "3.12.2"
  }
 },
 "nbformat": 4,
 "nbformat_minor": 2
}
