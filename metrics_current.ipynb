{
 "cells": [
  {
   "cell_type": "code",
   "execution_count": 1,
   "metadata": {},
   "outputs": [],
   "source": [
    "import pandas as pd\n",
    "import numpy as np\n",
    "\n",
    "import matplotlib.pyplot as plt\n",
    "import seaborn as sns\n",
    "\n",
    "pd.set_option('display.max_rows', None)\n",
    "pd.set_option('display.max_columns', None)\n",
    "pd.set_option('display.max_colwidth', None)\n",
    "pd.options.display.max_columns=None\n",
    "pd.options.mode.chained_assignment = None"
   ]
  },
  {
   "cell_type": "code",
   "execution_count": null,
   "metadata": {},
   "outputs": [],
   "source": [
    "after_logreg_choice = "
   ]
  },
  {
   "cell_type": "code",
   "execution_count": null,
   "metadata": {},
   "outputs": [],
   "source": [
    "percentage_success_new = round(after_logreg_choice[after_logreg_choice['result'] == 1]['result'].count()/after_logreg_choice[after_logreg_choice['result'] == -1]['result'].count()*100,2)\n",
    "print('процент успешных взаимодействий от общего количества взаимодействий', percentage_success_new)\n"
   ]
  },
  {
   "cell_type": "code",
   "execution_count": null,
   "metadata": {},
   "outputs": [],
   "source": [
    "\n",
    "\n",
    "percentage_success_per_user_new= after_logreg_choice[after_logreg_choice['result'] == 1]['result'].count()/after_logreg_choice['guid'].nunique()*100\n",
    "print('процент успешных взаимодействий от общего количества пользователей за период', percentage_success_per_user_new)\n"
   ]
  },
  {
   "cell_type": "code",
   "execution_count": 2,
   "metadata": {},
   "outputs": [],
   "source": [
    "triggers_actions = pd.read_csv(r'/home/kusapochka/triggers/triggers_actions.csv',index_col = 0)"
   ]
  },
  {
   "cell_type": "code",
   "execution_count": null,
   "metadata": {},
   "outputs": [],
   "source": [
    "triggers_actions['result'].value_counts()"
   ]
  },
  {
   "cell_type": "code",
   "execution_count": null,
   "metadata": {},
   "outputs": [],
   "source": [
    "triggers_actions.head(10)"
   ]
  },
  {
   "cell_type": "code",
   "execution_count": 3,
   "metadata": {},
   "outputs": [
    {
     "name": "stdout",
     "output_type": "stream",
     "text": [
      "процент успешных взаимодействий от общего количества взаимодействий 2.97\n"
     ]
    }
   ],
   "source": [
    "percentage_success = round(triggers_actions[triggers_actions['result'] == 1]['result'].count()/(triggers_actions[~triggers_actions['result'].isna()]['result'].count())*100,2)\n",
    "print('процент успешных взаимодействий от общего количества взаимодействий', percentage_success )"
   ]
  },
  {
   "cell_type": "code",
   "execution_count": 4,
   "metadata": {},
   "outputs": [
    {
     "name": "stdout",
     "output_type": "stream",
     "text": [
      "процент успешных взаимодействий от общего количества пользователей за период 1.119268841009164\n"
     ]
    }
   ],
   "source": [
    "percentage_success_per_user = triggers_actions[triggers_actions['result'] == 1]['result'].count()/triggers_actions['guid'].nunique()*100\n",
    "print('процент успешных взаимодействий от общего количества пользователей за период', percentage_success_per_user )\n"
   ]
  },
  {
   "cell_type": "code",
   "execution_count": null,
   "metadata": {},
   "outputs": [],
   "source": []
  },
  {
   "cell_type": "code",
   "execution_count": 2,
   "metadata": {},
   "outputs": [],
   "source": [
    "after_logreg = pd.read_csv(r'/home/kusapochka/triggers/after_logreg_part.csv')"
   ]
  },
  {
   "cell_type": "code",
   "execution_count": null,
   "metadata": {},
   "outputs": [],
   "source": [
    "after_logreg[after_logreg['result'] == 1].head(1)"
   ]
  },
  {
   "cell_type": "code",
   "execution_count": null,
   "metadata": {},
   "outputs": [],
   "source": [
    "after_logreg.head(10)"
   ]
  },
  {
   "cell_type": "code",
   "execution_count": 5,
   "metadata": {},
   "outputs": [],
   "source": [
    "after_logreg['succes_overall'] = after_logreg['interaction_prob']*after_logreg['success_prob']"
   ]
  },
  {
   "cell_type": "code",
   "execution_count": null,
   "metadata": {},
   "outputs": [],
   "source": [
    "after_logreg_success = after_logreg[after_logreg['result'] == 1]"
   ]
  },
  {
   "cell_type": "code",
   "execution_count": null,
   "metadata": {},
   "outputs": [],
   "source": [
    "after_logreg_success['interaction_prob'].describe()"
   ]
  },
  {
   "cell_type": "code",
   "execution_count": null,
   "metadata": {},
   "outputs": [],
   "source": [
    "after_logreg_fail = after_logreg[after_logreg['result'] == 0]"
   ]
  },
  {
   "cell_type": "code",
   "execution_count": null,
   "metadata": {},
   "outputs": [],
   "source": [
    "# создаем фигуру и две оси рядом\n",
    "fig, axes = plt.subplots(1, 2, figsize=(15, 6))\n",
    "\n",
    "# первый график - для успешных взаимодействий\n",
    "sns.histplot(after_logreg_success['interaction_prob'], bins=50, kde=True, color='blue', ax=axes[0])\n",
    "axes[0].set_title('Распределение вероятностей успешных взаимодействий', fontsize=14)\n",
    "axes[0].set_xlabel('Вероятность взаимодействия', fontsize=12)\n",
    "axes[0].set_ylabel('Количество', fontsize=12)\n",
    "\n",
    "# второй график - для неуспешных взаимодействий\n",
    "sns.histplot(after_logreg_fail['interaction_prob'], bins=50, kde=True, color='blue', ax=axes[1])\n",
    "axes[1].set_title('Распределение вероятностей неуспешных взаимодействий', fontsize=14)\n",
    "axes[1].set_xlabel('Вероятность взаимодействия', fontsize=12)\n",
    "axes[1].set_ylabel('Количество', fontsize=12)\n",
    "\n",
    "# отображаем оба графика\n",
    "plt.tight_layout()\n",
    "plt.show()"
   ]
  },
  {
   "cell_type": "code",
   "execution_count": null,
   "metadata": {},
   "outputs": [],
   "source": [
    "# создаем фигуру и две оси рядом\n",
    "fig, axes = plt.subplots(1, 2, figsize=(15, 6))\n",
    "\n",
    "# первый график - для успешных взаимодействий\n",
    "sns.histplot(after_logreg_success['success_prob'], bins=50, kde=True, color='blue', ax=axes[0])\n",
    "axes[0].set_title('Распределение вероятностей успешных взаимодействий', fontsize=14)\n",
    "axes[0].set_xlabel('Вероятность взаимодействия', fontsize=12)\n",
    "axes[0].set_ylabel('Количество', fontsize=12)\n",
    "\n",
    "# второй график - для неуспешных взаимодействий\n",
    "sns.histplot(after_logreg_fail['success_prob'], bins=50, kde=True, color='blue', ax=axes[1])\n",
    "axes[1].set_title('Распределение вероятностей неуспешных взаимодействий', fontsize=14)\n",
    "axes[1].set_xlabel('Вероятность взаимодействия', fontsize=12)\n",
    "axes[1].set_ylabel('Количество', fontsize=12)\n",
    "\n",
    "# отображаем оба графика\n",
    "plt.tight_layout()\n",
    "plt.show()"
   ]
  },
  {
   "cell_type": "code",
   "execution_count": null,
   "metadata": {},
   "outputs": [],
   "source": [
    "# создаем фигуру и две оси рядом\n",
    "fig, axes = plt.subplots(1, 2, figsize=(15, 6))\n",
    "\n",
    "# первый график - для успешных взаимодействий\n",
    "sns.histplot(after_logreg_success['succes_overall'], bins=50, kde=True, color='blue', ax=axes[0])\n",
    "axes[0].set_title('Распределение вероятностей успешных взаимодействий', fontsize=14)\n",
    "axes[0].set_xlabel('Вероятность взаимодействия', fontsize=12)\n",
    "axes[0].set_ylabel('Количество', fontsize=12)\n",
    "\n",
    "# второй график - для неуспешных взаимодействий\n",
    "sns.histplot(after_logreg_fail['succes_overall'], bins=50, kde=True, color='blue', ax=axes[1])\n",
    "axes[1].set_title('Распределение вероятностей неуспешных взаимодействий', fontsize=14)\n",
    "axes[1].set_xlabel('Вероятность взаимодействия', fontsize=12)\n",
    "axes[1].set_ylabel('Количество', fontsize=12)\n",
    "\n",
    "# отображаем оба графика\n",
    "plt.tight_layout()\n",
    "plt.show()"
   ]
  },
  {
   "cell_type": "code",
   "execution_count": null,
   "metadata": {},
   "outputs": [],
   "source": [
    "after_logreg_success['succes_overall']"
   ]
  },
  {
   "cell_type": "code",
   "execution_count": null,
   "metadata": {},
   "outputs": [],
   "source": [
    "after_logreg_success"
   ]
  },
  {
   "cell_type": "code",
   "execution_count": 26,
   "metadata": {},
   "outputs": [],
   "source": [
    "after_logreg_choice = after_logreg[after_logreg['succes_overall'] >= 0.04]"
   ]
  },
  {
   "cell_type": "code",
   "execution_count": null,
   "metadata": {},
   "outputs": [],
   "source": [
    "percentage_success_new = round(after_logreg_choice[after_logreg_choice['result'] == 1]['result'].count()/after_logreg_choice[after_logreg_choice['result'] == -1]['result'].count()*100,2)\n",
    "print('процент успешных взаимодействий от общего количества взаимодействий', percentage_success_new)"
   ]
  },
  {
   "cell_type": "code",
   "execution_count": null,
   "metadata": {},
   "outputs": [],
   "source": [
    "after_logreg_choice['result'].value_counts()"
   ]
  },
  {
   "cell_type": "code",
   "execution_count": null,
   "metadata": {},
   "outputs": [],
   "source": [
    "\n",
    "percentage_success_per_user_new= after_logreg_choice[after_logreg_choice['result'] == 1]['result'].count()/after_logreg_choice['guid'].nunique()*100\n",
    "print('процент успешных взаимодействий от общего количества пользователей за период', percentage_success_per_user_new)\n"
   ]
  },
  {
   "cell_type": "code",
   "execution_count": null,
   "metadata": {},
   "outputs": [],
   "source": [
    "after_logreg_choice[after_logreg_choice['result'] == 1]['result'].count()"
   ]
  },
  {
   "cell_type": "code",
   "execution_count": null,
   "metadata": {},
   "outputs": [],
   "source": [
    "after_logreg_choice['guid'].nunique()"
   ]
  },
  {
   "cell_type": "code",
   "execution_count": null,
   "metadata": {},
   "outputs": [],
   "source": []
  }
 ],
 "metadata": {
  "kernelspec": {
   "display_name": "Python 3",
   "language": "python",
   "name": "python3"
  },
  "language_info": {
   "codemirror_mode": {
    "name": "ipython",
    "version": 3
   },
   "file_extension": ".py",
   "mimetype": "text/x-python",
   "name": "python",
   "nbconvert_exporter": "python",
   "pygments_lexer": "ipython3",
   "version": "3.10.12"
  }
 },
 "nbformat": 4,
 "nbformat_minor": 2
}
