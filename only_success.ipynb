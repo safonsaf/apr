{
 "cells": [
  {
   "cell_type": "code",
   "execution_count": null,
   "metadata": {},
   "outputs": [],
   "source": [
    "import pandas as pd\n",
    "import numpy as np\n",
    "from datetime import timedelta\n",
    "from sklearn.linear_model import LogisticRegression\n",
    "from sklearn.model_selection import train_test_split\n",
    "from sklearn.preprocessing import StandardScaler\n",
    "\n",
    "from sklearn.preprocessing import OneHotEncoder\n",
    "\n",
    "import random\n",
    "\n",
    "from sklearn.metrics import classification_report, roc_auc_score\n",
    "\n",
    "import matplotlib.pyplot as plt\n",
    "import seaborn as sns\n",
    "\n",
    "from sklearn.tree import DecisionTreeClassifier\n",
    "from sklearn.metrics import classification_report\n",
    "\n",
    "pd.set_option('display.max_rows', None)\n",
    "pd.set_option('display.max_columns', None)\n",
    "pd.set_option('display.max_colwidth', None)\n",
    "pd.options.display.max_columns=None\n",
    "pd.options.mode.chained_assignment = None"
   ]
  },
  {
   "cell_type": "code",
   "execution_count": null,
   "metadata": {},
   "outputs": [],
   "source": [
    "triggers_actions = pd.read_csv(r'/home/kusapochka/triggers/before_logreg.csv')"
   ]
  },
  {
   "cell_type": "code",
   "execution_count": null,
   "metadata": {},
   "outputs": [],
   "source": [
    "def encode_columns(df, columns):\n",
    "    encoder = OneHotEncoder(drop='first', sparse_output=False)\n",
    "    encoded_data = encoder.fit_transform(df[columns])\n",
    "    \n",
    "    # Создаем DataFrame с новыми названиями столбцов\n",
    "    encoded_df = pd.DataFrame(encoded_data, columns=encoder.get_feature_names_out(columns))\n",
    "    encoded_df.index = df.index  # сохраняем индекс для правильного объединения\n",
    "    \n",
    "    # Объединяем закодированные данные с исходным DataFrame и удаляем оригинальные столбцы\n",
    "    df = pd.concat([df.drop(columns, axis=1), encoded_df], axis=1)\n",
    "    return df"
   ]
  },
  {
   "cell_type": "code",
   "execution_count": null,
   "metadata": {},
   "outputs": [],
   "source": [
    "\n",
    "# Пример использования:\n",
    "triggers_actions = encode_columns(triggers_actions, ['type', 'last_successful_type'])"
   ]
  },
  {
   "cell_type": "code",
   "execution_count": null,
   "metadata": {},
   "outputs": [],
   "source": [
    "triggers_actions['trigger'] = triggers_actions['trigger'].astype('category')"
   ]
  },
  {
   "cell_type": "code",
   "execution_count": null,
   "metadata": {},
   "outputs": [],
   "source": [
    "triggers_actions.info()"
   ]
  },
  {
   "cell_type": "code",
   "execution_count": null,
   "metadata": {},
   "outputs": [],
   "source": [
    "X = triggers_actions.drop(columns = ['guid','date','result','action_date'])\n",
    "y_succes = triggers_actions['result']  # таргет для взаимодействия\n",
    "\n",
    "# Разделение данных на train/test с фиксацией индексов\n",
    "X_train, X_test, y_train_success, y_test_success = train_test_split(X, y_succes, test_size=0.3, random_state=42)"
   ]
  },
  {
   "cell_type": "code",
   "execution_count": null,
   "metadata": {},
   "outputs": [],
   "source": [
    "# Сохраняем индексы, которые попали в train/test\n",
    "train_indices = X_train.index\n",
    "test_indices = X_test.index"
   ]
  },
  {
   "cell_type": "code",
   "execution_count": null,
   "metadata": {},
   "outputs": [],
   "source": []
  },
  {
   "cell_type": "code",
   "execution_count": null,
   "metadata": {},
   "outputs": [],
   "source": []
  },
  {
   "cell_type": "markdown",
   "metadata": {},
   "source": [
    "### logreg"
   ]
  },
  {
   "cell_type": "code",
   "execution_count": null,
   "metadata": {},
   "outputs": [],
   "source": [
    "### модели \n",
    "# модель для взаимодействия \n",
    "logreg_success = LogisticRegression(class_weight='balanced',multi_class='ovr')\n",
    "\n",
    "logreg_success.fit(X_train, y_train_success)"
   ]
  },
  {
   "cell_type": "code",
   "execution_count": null,
   "metadata": {},
   "outputs": [],
   "source": [
    "\n",
    "# получаем вероятности для каждого из классов\n",
    "probs = logreg_success.predict_proba(X_test)"
   ]
  },
  {
   "cell_type": "code",
   "execution_count": null,
   "metadata": {},
   "outputs": [],
   "source": [
    "\n",
    "# добавляем вероятности для каждого класса в датафрейм\n",
    "triggers_actions.loc[test_indices,'prob_no_interaction'] = probs[:, 0]  # вероятность для класса 0 (нет взаимодействия)\n",
    "triggers_actions.loc[test_indices,'prob_success'] = probs[:, 1]         # вероятность для класса 1 (успех)\n",
    "triggers_actions.loc[test_indices,'prob_unsuccessful'] = probs[:, 2]    # вероятность для класса -1 (неуспех)\n"
   ]
  },
  {
   "cell_type": "code",
   "execution_count": null,
   "metadata": {},
   "outputs": [],
   "source": [
    "\n"
   ]
  },
  {
   "cell_type": "code",
   "execution_count": null,
   "metadata": {},
   "outputs": [],
   "source": [
    "triggers_actions.head(10)"
   ]
  },
  {
   "cell_type": "code",
   "execution_count": null,
   "metadata": {},
   "outputs": [],
   "source": [
    "# получаем коэффициенты модели\n",
    "feature_importance = logreg_success.coef_[0]\n",
    "\n",
    "# создаем DataFrame для наглядности\n",
    "feature_names = X_train.columns  # названия признаков из обучающего набора\n",
    "importance_df = pd.DataFrame({\n",
    "    'Feature': feature_names,\n",
    "    'Importance': feature_importance\n",
    "})\n",
    "\n",
    "# сортируем признаки по важности\n",
    "importance_df = importance_df.sort_values(by='Importance', ascending=False)\n",
    "\n",
    "# визуализация\n",
    "plt.figure(figsize=(10, 6))\n",
    "plt.barh(importance_df['Feature'], importance_df['Importance'], color='skyblue')\n",
    "plt.xlabel('Coefficient Value')\n",
    "plt.ylabel('Feature')\n",
    "plt.title('Feature Importance in Logistic Regression')\n",
    "plt.gca().invert_yaxis() \n",
    "plt.show()"
   ]
  },
  {
   "cell_type": "code",
   "execution_count": null,
   "metadata": {},
   "outputs": [],
   "source": [
    "after_logreg_success = triggers_actions.dropna()[triggers_actions['result'] == 1]\n",
    "after_logreg_fail = triggers_actions.dropna()[triggers_actions['result'] == -1]"
   ]
  },
  {
   "cell_type": "code",
   "execution_count": null,
   "metadata": {},
   "outputs": [],
   "source": [
    "after_logreg_success.head()"
   ]
  },
  {
   "cell_type": "code",
   "execution_count": null,
   "metadata": {},
   "outputs": [],
   "source": [
    "# создаем фигуру и две оси рядом\n",
    "fig, axes = plt.subplots(1, 2, figsize=(15, 6))\n",
    "\n",
    "# первый график - для успешных взаимодействий\n",
    "sns.histplot(after_logreg_success['prob_success'], bins=50, kde=True, color='blue', ax=axes[0])\n",
    "axes[0].set_title('Распределение вероятностей успешных взаимодействий', fontsize=14)\n",
    "axes[0].set_xlabel('Вероятность взаимодействия', fontsize=12)\n",
    "axes[0].set_ylabel('Количество', fontsize=12)\n",
    "\n",
    "# второй график - для неуспешных взаимодействий\n",
    "sns.histplot(after_logreg_fail['prob_success'], bins=50, kde=True, color='blue', ax=axes[1])\n",
    "axes[1].set_title('Распределение вероятностей неуспешных взаимодействий', fontsize=14)\n",
    "axes[1].set_xlabel('Вероятность взаимодействия', fontsize=12)\n",
    "axes[1].set_ylabel('Количество', fontsize=12)\n",
    "\n",
    "# отображаем оба графика\n",
    "plt.tight_layout()\n",
    "plt.show()"
   ]
  },
  {
   "cell_type": "code",
   "execution_count": null,
   "metadata": {},
   "outputs": [],
   "source": []
  },
  {
   "cell_type": "markdown",
   "metadata": {},
   "source": [
    "### пробуем деревья"
   ]
  },
  {
   "cell_type": "code",
   "execution_count": null,
   "metadata": {},
   "outputs": [],
   "source": [
    "# создаем и обучаем модель\n",
    "tree_clf = DecisionTreeClassifier(random_state=42, class_weight='balanced')\n",
    "tree_clf.fit(X_train, y_train_success)\n"
   ]
  },
  {
   "cell_type": "code",
   "execution_count": null,
   "metadata": {},
   "outputs": [],
   "source": [
    "# извлечение важности признаков\n",
    "feature_importances = tree_clf.feature_importances_\n",
    "\n",
    "# создаем DataFrame для удобства отображения\n",
    "feature_importance_df = pd.DataFrame({\n",
    "    'Feature': X_train.columns,\n",
    "    'Importance': feature_importances\n",
    "})\n",
    "\n",
    "# сортируем признаки по важности\n",
    "feature_importance_df = feature_importance_df.sort_values(by='Importance', ascending=False)\n",
    "\n",
    "# визуализируем важность признаков\n",
    "plt.figure(figsize=(10, 6))\n",
    "plt.barh(feature_importance_df['Feature'], feature_importance_df['Importance'], color='skyblue')\n",
    "plt.xlabel('Importance')\n",
    "plt.ylabel('Feature')\n",
    "plt.title('Feature Importance in Decision Tree')\n",
    "plt.gca().invert_yaxis()\n",
    "plt.show()"
   ]
  },
  {
   "cell_type": "code",
   "execution_count": null,
   "metadata": {},
   "outputs": [],
   "source": [
    "# получаем вероятности для каждого класса на тестовом наборе\n",
    "y_proba = tree_clf.predict_proba(X_test)\n"
   ]
  },
  {
   "cell_type": "code",
   "execution_count": null,
   "metadata": {},
   "outputs": [],
   "source": [
    "\n",
    "# создаем DataFrame с вероятностями, используя тестовые индексы для соответствия с triggers_actions\n",
    "proba_df = pd.DataFrame(y_proba, columns=tree_clf.classes_, index=test_indices)\n"
   ]
  },
  {
   "cell_type": "code",
   "execution_count": null,
   "metadata": {},
   "outputs": [],
   "source": [
    "\n",
    "# объединяем вероятности с исходным DataFrame triggers_actions\n",
    "# здесь будет произведено слияние по индексу\n",
    "triggers_actions_pred = triggers_actions.join(proba_df, how='inner')"
   ]
  },
  {
   "cell_type": "code",
   "execution_count": null,
   "metadata": {},
   "outputs": [],
   "source": []
  }
 ],
 "metadata": {
  "kernelspec": {
   "display_name": "Python 3",
   "language": "python",
   "name": "python3"
  },
  "language_info": {
   "codemirror_mode": {
    "name": "ipython",
    "version": 3
   },
   "file_extension": ".py",
   "mimetype": "text/x-python",
   "name": "python",
   "nbconvert_exporter": "python",
   "pygments_lexer": "ipython3",
   "version": "3.10.12"
  }
 },
 "nbformat": 4,
 "nbformat_minor": 2
}
